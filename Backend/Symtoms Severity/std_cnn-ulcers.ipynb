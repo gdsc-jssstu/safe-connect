{
 "cells": [
  {
   "cell_type": "markdown",
   "metadata": {
    "id": "3DR-eO17geWu"
   },
   "source": [
    "# Convolutional Neural Network"
   ]
  },
  {
   "cell_type": "markdown",
   "metadata": {
    "id": "EMefrVPCg-60"
   },
   "source": [
    "### Importing the libraries"
   ]
  },
  {
   "cell_type": "code",
   "execution_count": 1,
   "metadata": {
    "id": "sCV30xyVhFbE"
   },
   "outputs": [],
   "source": [
    "import tensorflow as tf\n",
    "from tensorflow import keras\n",
    "from tensorflow.keras import layers\n",
    "from keras.preprocessing.image import ImageDataGenerator"
   ]
  },
  {
   "cell_type": "code",
   "execution_count": 2,
   "metadata": {
    "id": "FIleuCAjoFD8"
   },
   "outputs": [
    {
     "data": {
      "text/plain": [
       "'2.9.1'"
      ]
     },
     "execution_count": 2,
     "metadata": {},
     "output_type": "execute_result"
    }
   ],
   "source": [
    "tf.__version__"
   ]
  },
  {
   "cell_type": "markdown",
   "metadata": {
    "id": "oxQxCBWyoGPE"
   },
   "source": [
    "## Part 1 - Data Preprocessing"
   ]
  },
  {
   "cell_type": "markdown",
   "metadata": {
    "id": "MvE-heJNo3GG"
   },
   "source": [
    "### Preprocessing the Training set"
   ]
  },
  {
   "cell_type": "code",
   "execution_count": 3,
   "metadata": {
    "id": "0koUcJMJpEBD"
   },
   "outputs": [
    {
     "name": "stdout",
     "output_type": "stream",
     "text": [
      "Found 13 images belonging to 3 classes.\n"
     ]
    }
   ],
   "source": [
    "train_datagen = ImageDataGenerator(rescale = 1./255,\n",
    "#                                    shear_range = 0.2,\n",
    "#                                    zoom_range = 0.2,\n",
    "#                                    horizontal_flip = True\n",
    "                                  rotation_range=20,           # Rotate the image by up to 20 degrees\n",
    "    width_shift_range=0.2,       # Shift the image horizontally by up to 20% of the image width\n",
    "    height_shift_range=0.2,      # Shift the image vertically by up to 20% of the image height\n",
    "    shear_range=0.2,             # Shear the image by up to 20 degrees\n",
    "    zoom_range=0.2,              # Zoom in or out on the image by up to 20%\n",
    "    horizontal_flip=True,        # Flip the image horizontally\n",
    "    fill_mode='nearest'\n",
    "                                  \n",
    "                                  )\n",
    "\n",
    "\n",
    "training_set = train_datagen.flow_from_directory(r'trainset\\ulcers',\n",
    "                                                 target_size = (64, 64),\n",
    "                                                 batch_size = 32,\n",
    "                                                 class_mode = 'categorical')"
   ]
  },
  {
   "cell_type": "markdown",
   "metadata": {
    "id": "mrCMmGw9pHys"
   },
   "source": [
    "### Preprocessing the Test set"
   ]
  },
  {
   "cell_type": "code",
   "execution_count": 4,
   "metadata": {
    "id": "SH4WzfOhpKc3"
   },
   "outputs": [],
   "source": [
    "# test_datagen = ImageDataGenerator(rescale = 1./255)\n",
    "# test_set = test_datagen.flow_from_directory(r'testset\\rashes',\n",
    "#                                             target_size = (64, 64),\n",
    "#                                             batch_size = 32,\n",
    "#                                             class_mode = 'categorical')"
   ]
  },
  {
   "cell_type": "markdown",
   "metadata": {
    "id": "af8O4l90gk7B"
   },
   "source": [
    "## Part 2 - Building the CNN"
   ]
  },
  {
   "cell_type": "markdown",
   "metadata": {
    "id": "ces1gXY2lmoX"
   },
   "source": [
    "### Initialising the CNN"
   ]
  },
  {
   "cell_type": "code",
   "execution_count": 5,
   "metadata": {
    "id": "SAUt4UMPlhLS"
   },
   "outputs": [],
   "source": [
    "cnn = tf.keras.models.Sequential()\n",
    "\n"
   ]
  },
  {
   "cell_type": "markdown",
   "metadata": {
    "id": "u5YJj_XMl5LF"
   },
   "source": [
    "### Step 1 - Convolution"
   ]
  },
  {
   "cell_type": "code",
   "execution_count": 6,
   "metadata": {
    "id": "XPzPrMckl-hV"
   },
   "outputs": [],
   "source": [
    "cnn.add(tf.keras.layers.Conv2D(filters=32, kernel_size=3, activation='relu', input_shape=[64, 64, 3]))"
   ]
  },
  {
   "cell_type": "markdown",
   "metadata": {
    "id": "tf87FpvxmNOJ"
   },
   "source": [
    "### Step 2 - Pooling"
   ]
  },
  {
   "cell_type": "code",
   "execution_count": 7,
   "metadata": {
    "id": "ncpqPl69mOac"
   },
   "outputs": [],
   "source": [
    "cnn.add(tf.keras.layers.MaxPool2D(pool_size=2, strides=2))"
   ]
  },
  {
   "cell_type": "markdown",
   "metadata": {
    "id": "xaTOgD8rm4mU"
   },
   "source": [
    "### Adding a second convolutional layer"
   ]
  },
  {
   "cell_type": "code",
   "execution_count": 8,
   "metadata": {
    "id": "i_-FZjn_m8gk"
   },
   "outputs": [],
   "source": [
    "cnn.add(tf.keras.layers.Conv2D(filters=64, kernel_size=3, activation='relu'))\n",
    "cnn.add(tf.keras.layers.MaxPool2D(pool_size=2, strides=2))"
   ]
  },
  {
   "cell_type": "markdown",
   "metadata": {
    "id": "tmiEuvTunKfk"
   },
   "source": [
    "### Step 3 - Flattening"
   ]
  },
  {
   "cell_type": "code",
   "execution_count": 9,
   "metadata": {
    "id": "6AZeOGCvnNZn"
   },
   "outputs": [],
   "source": [
    "cnn.add(tf.keras.layers.Flatten())"
   ]
  },
  {
   "cell_type": "markdown",
   "metadata": {
    "id": "dAoSECOm203v"
   },
   "source": [
    "### Step 4 - Full Connection"
   ]
  },
  {
   "cell_type": "code",
   "execution_count": 10,
   "metadata": {
    "id": "8GtmUlLd26Nq"
   },
   "outputs": [],
   "source": [
    "cnn.add(tf.keras.layers.Dense(units=128, activation='relu'))"
   ]
  },
  {
   "cell_type": "markdown",
   "metadata": {
    "id": "yTldFvbX28Na"
   },
   "source": [
    "### Step 5 - Output Layer"
   ]
  },
  {
   "cell_type": "code",
   "execution_count": 11,
   "metadata": {
    "id": "1p_Zj1Mc3Ko_"
   },
   "outputs": [],
   "source": [
    "cnn.add(tf.keras.layers.Dense(units=3, activation='softmax'))"
   ]
  },
  {
   "cell_type": "markdown",
   "metadata": {
    "id": "D6XkI90snSDl"
   },
   "source": [
    "## Part 3 - Training the CNN"
   ]
  },
  {
   "cell_type": "markdown",
   "metadata": {
    "id": "vfrFQACEnc6i"
   },
   "source": [
    "### Compiling the CNN"
   ]
  },
  {
   "cell_type": "code",
   "execution_count": 12,
   "metadata": {
    "id": "NALksrNQpUlJ"
   },
   "outputs": [],
   "source": [
    "cnn.compile(loss = 'categorical_crossentropy', optimizer = 'adam', \n",
    "              metrics = ['accuracy'])"
   ]
  },
  {
   "cell_type": "markdown",
   "metadata": {
    "id": "ehS-v3MIpX2h"
   },
   "source": [
    "### Training the CNN on the Training set and evaluating it on the Test set"
   ]
  },
  {
   "cell_type": "code",
   "execution_count": 13,
   "metadata": {},
   "outputs": [],
   "source": [
    "import os\n",
    "\n",
    "dir_path = r'C:\\Users\\Geetha\\Desktop\\std_severity\\trainset\\ulcers'\n",
    "\n",
    "# Get a list of all the files in the directory\n",
    "file_list = os.listdir(dir_path)\n",
    "\n",
    "# Loop through the files and delete any with the \".ini\" extension\n",
    "for file_name in file_list:\n",
    "    if file_name.endswith('.ini'):\n",
    "        file_path = os.path.join(dir_path, file_name)\n",
    "        os.remove(file_path)\n",
    "#os.remove(r'C:\\Users\\Geetha\\Desktop\\STD_CNN\\testset\\muscle_wasting\\desktop.ini')\n",
    "#os.remove(r'C:\\Users\\Geetha\\Desktop\\STD_CNN\\testset\\yellowing_skin\\desktop.ini')\n"
   ]
  },
  {
   "cell_type": "code",
   "execution_count": 14,
   "metadata": {},
   "outputs": [
    {
     "name": "stdout",
     "output_type": "stream",
     "text": [
      "[]\n"
     ]
    }
   ],
   "source": [
    "import os\n",
    "import cv2\n",
    "bad_list=[]\n",
    "dir=r'C:\\Users\\Geetha\\Desktop\\std_severity\\trainset\\ulcers'\n",
    "subdir_list=os.listdir(dir)\n",
    "for d in subdir_list:  \n",
    "    dpath=os.path.join (dir, d) \n",
    "    if d in ['testset', 'trainset']:\n",
    "        class_list=os.listdir(dpath) \n",
    "       # print (class_list)\n",
    "        for klass in class_list: \n",
    "            class_path=os.path.join(dpath, klass) \n",
    "            #print(class_path)\n",
    "            file_list=os.listdir(class_path) \n",
    "            for f in file_list: \n",
    "                fpath=os.path.join (class_path,f)\n",
    "                index=f.rfind('.') \n",
    "                ext=f[index+1:] \n",
    "                if ext  not in ['jpg', 'png', 'bmp', 'gif']:\n",
    "                    print(f'file {fpath}  has an invalid extension {ext}')\n",
    "                    bad_list.append(fpath)                    \n",
    "                else:\n",
    "                    try:\n",
    "                        img=cv2.imread(fpath)\n",
    "                        size=img.shape\n",
    "                    except:\n",
    "                        print(f'file {fpath} is not a valid image file ')\n",
    "                        bad_list.append(fpath)\n",
    "                       \n",
    "print (bad_list)"
   ]
  },
  {
   "cell_type": "code",
   "execution_count": 15,
   "metadata": {},
   "outputs": [
    {
     "name": "stdout",
     "output_type": "stream",
     "text": [
      "Epoch 1/25\n",
      "1/1 [==============================] - 1s 1s/step - loss: 1.1009 - accuracy: 0.3077\n",
      "Epoch 2/25\n",
      "1/1 [==============================] - 0s 220ms/step - loss: 1.1779 - accuracy: 0.3846\n",
      "Epoch 3/25\n",
      "1/1 [==============================] - 0s 230ms/step - loss: 1.1765 - accuracy: 0.3846\n",
      "Epoch 4/25\n",
      "1/1 [==============================] - 0s 267ms/step - loss: 1.1046 - accuracy: 0.5385\n",
      "Epoch 5/25\n",
      "1/1 [==============================] - 0s 283ms/step - loss: 1.0537 - accuracy: 0.4615\n",
      "Epoch 6/25\n",
      "1/1 [==============================] - 0s 241ms/step - loss: 1.0509 - accuracy: 0.5385\n",
      "Epoch 7/25\n",
      "1/1 [==============================] - 0s 218ms/step - loss: 1.0311 - accuracy: 0.6154\n",
      "Epoch 8/25\n",
      "1/1 [==============================] - 0s 175ms/step - loss: 1.0123 - accuracy: 0.5385\n",
      "Epoch 9/25\n",
      "1/1 [==============================] - 0s 250ms/step - loss: 1.0022 - accuracy: 0.5385\n",
      "Epoch 10/25\n",
      "1/1 [==============================] - 0s 220ms/step - loss: 0.9720 - accuracy: 0.6154\n",
      "Epoch 11/25\n",
      "1/1 [==============================] - 0s 259ms/step - loss: 0.9381 - accuracy: 0.5385\n",
      "Epoch 12/25\n",
      "1/1 [==============================] - 0s 260ms/step - loss: 0.8750 - accuracy: 0.6923\n",
      "Epoch 13/25\n",
      "1/1 [==============================] - 0s 227ms/step - loss: 0.8439 - accuracy: 0.6923\n",
      "Epoch 14/25\n",
      "1/1 [==============================] - 0s 290ms/step - loss: 0.8162 - accuracy: 0.6923\n",
      "Epoch 15/25\n",
      "1/1 [==============================] - 0s 225ms/step - loss: 0.7463 - accuracy: 0.7692\n",
      "Epoch 16/25\n",
      "1/1 [==============================] - 0s 195ms/step - loss: 0.7064 - accuracy: 0.6923\n",
      "Epoch 17/25\n",
      "1/1 [==============================] - 0s 254ms/step - loss: 0.8024 - accuracy: 0.6154\n",
      "Epoch 18/25\n",
      "1/1 [==============================] - 0s 257ms/step - loss: 0.6534 - accuracy: 0.6923\n",
      "Epoch 19/25\n",
      "1/1 [==============================] - 0s 237ms/step - loss: 0.8264 - accuracy: 0.6923\n",
      "Epoch 20/25\n",
      "1/1 [==============================] - 0s 214ms/step - loss: 0.8310 - accuracy: 0.6154\n",
      "Epoch 21/25\n",
      "1/1 [==============================] - 0s 250ms/step - loss: 0.6342 - accuracy: 0.7692\n",
      "Epoch 22/25\n",
      "1/1 [==============================] - 0s 182ms/step - loss: 0.5720 - accuracy: 0.7692\n",
      "Epoch 23/25\n",
      "1/1 [==============================] - 0s 224ms/step - loss: 0.7106 - accuracy: 0.6923\n",
      "Epoch 24/25\n",
      "1/1 [==============================] - 0s 232ms/step - loss: 0.6756 - accuracy: 0.6923\n",
      "Epoch 25/25\n",
      "1/1 [==============================] - 0s 245ms/step - loss: 0.5552 - accuracy: 0.8462\n"
     ]
    },
    {
     "data": {
      "text/plain": [
       "<keras.callbacks.History at 0x174214c0ee0>"
      ]
     },
     "execution_count": 15,
     "metadata": {},
     "output_type": "execute_result"
    }
   ],
   "source": [
    "cnn.fit(x = training_set, epochs = 25)\n"
   ]
  },
  {
   "cell_type": "code",
   "execution_count": 16,
   "metadata": {
    "id": "XUj1W4PJptta"
   },
   "outputs": [
    {
     "name": "stdout",
     "output_type": "stream",
     "text": [
      "{'mild': 0, 'moderate': 1, 'severe': 2}\n"
     ]
    }
   ],
   "source": [
    "\n",
    "class_indices = training_set.class_indices\n",
    "print(class_indices)\n",
    "\n",
    "# Get the class label for a particular class\n",
    "\n",
    "\n"
   ]
  },
  {
   "cell_type": "markdown",
   "metadata": {
    "id": "U3PZasO0006Z"
   },
   "source": [
    "## Part 4 - Making a single prediction"
   ]
  },
  {
   "cell_type": "code",
   "execution_count": 17,
   "metadata": {
    "id": "gsSiWEJY1BPB"
   },
   "outputs": [
    {
     "name": "stdout",
     "output_type": "stream",
     "text": [
      "1/1 [==============================] - 0s 172ms/step\n",
      "[[1. 0. 0.]]\n",
      "1/1 [==============================] - 0s 21ms/step\n",
      "[[1. 0. 0.]]\n",
      "1.0\n",
      "[[1 2 0]]\n",
      "[[0. 0. 1.]]\n",
      "b is larger than a\n",
      "[[1 2 0]]\n",
      "[[0. 0. 1.]]\n",
      "The test sample [[[[219. 169. 162.]\n",
      "   [229. 179. 182.]\n",
      "   [230. 184. 187.]\n",
      "   ...\n",
      "   [194. 138. 125.]\n",
      "   [192. 140. 126.]\n",
      "   [189. 140. 125.]]\n",
      "\n",
      "  [[223. 173. 164.]\n",
      "   [233. 183. 186.]\n",
      "   [235. 189. 191.]\n",
      "   ...\n",
      "   [192. 139. 125.]\n",
      "   [192. 140. 126.]\n",
      "   [188. 139. 124.]]\n",
      "\n",
      "  [[227. 177. 166.]\n",
      "   [237. 187. 186.]\n",
      "   [238. 192. 192.]\n",
      "   ...\n",
      "   [191. 139. 125.]\n",
      "   [190. 141. 126.]\n",
      "   [188. 139. 124.]]\n",
      "\n",
      "  ...\n",
      "\n",
      "  [[230. 115. 128.]\n",
      "   [232. 120. 132.]\n",
      "   [227. 120. 130.]\n",
      "   ...\n",
      "   [ 70.  43.  32.]\n",
      "   [ 53.  35.  25.]\n",
      "   [ 35.  26.  21.]]\n",
      "\n",
      "  [[226. 114. 126.]\n",
      "   [231. 116. 129.]\n",
      "   [232. 114. 128.]\n",
      "   ...\n",
      "   [ 53.  36.  28.]\n",
      "   [ 36.  27.  22.]\n",
      "   [ 19.  13.  13.]]\n",
      "\n",
      "  [[227. 115. 127.]\n",
      "   [225. 110. 123.]\n",
      "   [227. 109. 123.]\n",
      "   ...\n",
      "   [ 40.  26.  17.]\n",
      "   [ 24.  17.  11.]\n",
      "   [  8.   2.   2.]]]] \n",
      "Top three Predicted classes and their corresponding probabilties\n",
      "\n",
      "\tClass 0: 1.00000\n",
      "\tClass 2: 0.00000\n",
      "\tClass 1: 0.00000\n"
     ]
    }
   ],
   "source": [
    "import numpy as np\n",
    "from tensorflow.keras.utils import load_img, img_to_array\n",
    "from keras.preprocessing import image\n",
    "test_image = tf.keras.utils.load_img('single_prediction/ulcers_moderate.jpg', target_size = (64, 64))\n",
    "test_image = tf.keras.preprocessing.image.img_to_array(test_image)\n",
    "test_image = np.expand_dims(test_image, axis = 0)\n",
    "result = cnn.predict(test_image)\n",
    "print(result)\n",
    "training_set.class_indices\n",
    "if result[0][0] >result[0][1] and result[0][0] >result[0][2]:\n",
    "  prediction = 'mild'\n",
    "elif result[0][1] >result[0][0] and result[0][1] >result[0][2]:\n",
    "  prediction = 'moderate'\n",
    "elif result[0][2] >result[0][0] and result[0][2] >result[0][1]:\n",
    "  prediction = 'very severe'\n",
    "\n",
    "\n",
    "\n",
    "probs = cnn.predict(test_image)\n",
    "print(probs)\n",
    "\n",
    "prob_sum = np.sum(probs)\n",
    "print(prob_sum)\n",
    "\n",
    "indices=np.argsort(probs)\n",
    "print(indices)\n",
    "print(probs[0][indices])\n",
    "if probs[0][indices[0][0]]> probs[0][indices[0][1]]:\n",
    "    print(\"a is larger than b\")\n",
    "else:\n",
    "    print(\"b is larger than a\")\n",
    "    \n",
    "top_3 = np.argsort(probs,axis=1)[:, -3:]\n",
    "print(top_3)\n",
    "class_probs = np.take_along_axis(probs, top_3, axis=1)\n",
    "print(class_probs)\n",
    "\n",
    "print(f\"The test sample {test_image} \")\n",
    "print(\"Top three Predicted classes and their corresponding probabilties\\n\")\n",
    "for j in range(3):\n",
    "        class_idx = top_3[0][2-j]\n",
    "        class_prob = class_probs[0][2-j]\n",
    "        print(f\"\\tClass {class_idx}: {class_prob:.5f}\")\n",
    "# print(f\"Actual class to which the test sample belongs to {}  \")�\n"
   ]
  },
  {
   "cell_type": "code",
   "execution_count": 18,
   "metadata": {
    "id": "ED9KB3I54c1i"
   },
   "outputs": [
    {
     "name": "stdout",
     "output_type": "stream",
     "text": [
      "mild\n"
     ]
    }
   ],
   "source": [
    "print(prediction)"
   ]
  },
  {
   "cell_type": "code",
   "execution_count": 19,
   "metadata": {},
   "outputs": [
    {
     "name": "stdout",
     "output_type": "stream",
     "text": [
      "[[1. 0. 0.]]\n"
     ]
    }
   ],
   "source": [
    "print(result)"
   ]
  },
  {
   "cell_type": "code",
   "execution_count": null,
   "metadata": {},
   "outputs": [],
   "source": []
  },
  {
   "cell_type": "code",
   "execution_count": null,
   "metadata": {},
   "outputs": [],
   "source": []
  }
 ],
 "metadata": {
  "colab": {
   "collapsed_sections": [],
   "provenance": [],
   "toc_visible": true
  },
  "kernelspec": {
   "display_name": "Python 3 (ipykernel)",
   "language": "python",
   "name": "python3"
  },
  "language_info": {
   "codemirror_mode": {
    "name": "ipython",
    "version": 3
   },
   "file_extension": ".py",
   "mimetype": "text/x-python",
   "name": "python",
   "nbconvert_exporter": "python",
   "pygments_lexer": "ipython3",
   "version": "3.9.12"
  }
 },
 "nbformat": 4,
 "nbformat_minor": 1
}
