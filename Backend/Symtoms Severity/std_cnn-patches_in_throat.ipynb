{
 "cells": [
  {
   "cell_type": "markdown",
   "metadata": {
    "id": "3DR-eO17geWu"
   },
   "source": [
    "# Convolutional Neural Network"
   ]
  },
  {
   "cell_type": "markdown",
   "metadata": {
    "id": "EMefrVPCg-60"
   },
   "source": [
    "### Importing the libraries"
   ]
  },
  {
   "cell_type": "code",
   "execution_count": 265,
   "metadata": {
    "id": "sCV30xyVhFbE"
   },
   "outputs": [],
   "source": [
    "import tensorflow as tf\n",
    "from tensorflow import keras\n",
    "from tensorflow.keras import layers\n",
    "from keras.preprocessing.image import ImageDataGenerator"
   ]
  },
  {
   "cell_type": "code",
   "execution_count": 266,
   "metadata": {
    "id": "FIleuCAjoFD8"
   },
   "outputs": [
    {
     "data": {
      "text/plain": [
       "'2.9.1'"
      ]
     },
     "execution_count": 266,
     "metadata": {},
     "output_type": "execute_result"
    }
   ],
   "source": [
    "tf.__version__"
   ]
  },
  {
   "cell_type": "markdown",
   "metadata": {
    "id": "oxQxCBWyoGPE"
   },
   "source": [
    "## Part 1 - Data Preprocessing"
   ]
  },
  {
   "cell_type": "markdown",
   "metadata": {
    "id": "MvE-heJNo3GG"
   },
   "source": [
    "### Preprocessing the Training set"
   ]
  },
  {
   "cell_type": "code",
   "execution_count": 267,
   "metadata": {
    "id": "0koUcJMJpEBD"
   },
   "outputs": [
    {
     "name": "stdout",
     "output_type": "stream",
     "text": [
      "Found 15 images belonging to 3 classes.\n"
     ]
    }
   ],
   "source": [
    "train_datagen = ImageDataGenerator(rescale = 1./255,\n",
    "#                                    shear_range = 0.2,\n",
    "#                                    zoom_range = 0.2,\n",
    "#                                    horizontal_flip = True\n",
    "                                  rotation_range=20,           # Rotate the image by up to 20 degrees\n",
    "    width_shift_range=0.2,       # Shift the image horizontally by up to 20% of the image width\n",
    "    height_shift_range=0.2,      # Shift the image vertically by up to 20% of the image height\n",
    "    shear_range=0.2,             # Shear the image by up to 20 degrees\n",
    "    zoom_range=0.2,              # Zoom in or out on the image by up to 20%\n",
    "    horizontal_flip=True,        # Flip the image horizontally\n",
    "    fill_mode='nearest'\n",
    "                                  \n",
    "                                  )\n",
    "\n",
    "\n",
    "training_set = train_datagen.flow_from_directory('trainset\\patches_in_throat',\n",
    "                                                 target_size = (64, 64),\n",
    "                                                 batch_size = 32,\n",
    "                                                 class_mode = 'categorical')"
   ]
  },
  {
   "cell_type": "markdown",
   "metadata": {
    "id": "mrCMmGw9pHys"
   },
   "source": [
    "### Preprocessing the Test set"
   ]
  },
  {
   "cell_type": "code",
   "execution_count": 268,
   "metadata": {
    "id": "SH4WzfOhpKc3"
   },
   "outputs": [
    {
     "name": "stdout",
     "output_type": "stream",
     "text": [
      "Found 3 images belonging to 3 classes.\n"
     ]
    }
   ],
   "source": [
    "test_datagen = ImageDataGenerator(rescale = 1./255)\n",
    "test_set = test_datagen.flow_from_directory('testset\\patches_in_throat',\n",
    "                                            target_size = (64, 64),\n",
    "                                            batch_size = 32,\n",
    "                                            class_mode = 'categorical')"
   ]
  },
  {
   "cell_type": "markdown",
   "metadata": {
    "id": "af8O4l90gk7B"
   },
   "source": [
    "## Part 2 - Building the CNN"
   ]
  },
  {
   "cell_type": "markdown",
   "metadata": {
    "id": "ces1gXY2lmoX"
   },
   "source": [
    "### Initialising the CNN"
   ]
  },
  {
   "cell_type": "code",
   "execution_count": 269,
   "metadata": {
    "id": "SAUt4UMPlhLS"
   },
   "outputs": [],
   "source": [
    "cnn = tf.keras.models.Sequential()\n",
    "\n"
   ]
  },
  {
   "cell_type": "markdown",
   "metadata": {
    "id": "u5YJj_XMl5LF"
   },
   "source": [
    "### Step 1 - Convolution"
   ]
  },
  {
   "cell_type": "code",
   "execution_count": 270,
   "metadata": {
    "id": "XPzPrMckl-hV"
   },
   "outputs": [],
   "source": [
    "cnn.add(tf.keras.layers.Conv2D(filters=32, kernel_size=3, activation='relu', input_shape=[64, 64, 3]))"
   ]
  },
  {
   "cell_type": "markdown",
   "metadata": {
    "id": "tf87FpvxmNOJ"
   },
   "source": [
    "### Step 2 - Pooling"
   ]
  },
  {
   "cell_type": "code",
   "execution_count": 271,
   "metadata": {
    "id": "ncpqPl69mOac"
   },
   "outputs": [],
   "source": [
    "cnn.add(tf.keras.layers.MaxPool2D(pool_size=2, strides=2))"
   ]
  },
  {
   "cell_type": "markdown",
   "metadata": {
    "id": "xaTOgD8rm4mU"
   },
   "source": [
    "### Adding a second convolutional layer"
   ]
  },
  {
   "cell_type": "code",
   "execution_count": 272,
   "metadata": {
    "id": "i_-FZjn_m8gk"
   },
   "outputs": [],
   "source": [
    "cnn.add(tf.keras.layers.Conv2D(filters=64, kernel_size=3, activation='relu'))\n",
    "cnn.add(tf.keras.layers.MaxPool2D(pool_size=2, strides=2))"
   ]
  },
  {
   "cell_type": "markdown",
   "metadata": {
    "id": "tmiEuvTunKfk"
   },
   "source": [
    "### Step 3 - Flattening"
   ]
  },
  {
   "cell_type": "code",
   "execution_count": 273,
   "metadata": {
    "id": "6AZeOGCvnNZn"
   },
   "outputs": [],
   "source": [
    "cnn.add(tf.keras.layers.Flatten())"
   ]
  },
  {
   "cell_type": "markdown",
   "metadata": {
    "id": "dAoSECOm203v"
   },
   "source": [
    "### Step 4 - Full Connection"
   ]
  },
  {
   "cell_type": "code",
   "execution_count": 274,
   "metadata": {
    "id": "8GtmUlLd26Nq"
   },
   "outputs": [],
   "source": [
    "cnn.add(tf.keras.layers.Dense(units=128, activation='relu'))"
   ]
  },
  {
   "cell_type": "markdown",
   "metadata": {
    "id": "yTldFvbX28Na"
   },
   "source": [
    "### Step 5 - Output Layer"
   ]
  },
  {
   "cell_type": "code",
   "execution_count": 275,
   "metadata": {
    "id": "1p_Zj1Mc3Ko_"
   },
   "outputs": [],
   "source": [
    "cnn.add(tf.keras.layers.Dense(units=3, activation='softmax'))"
   ]
  },
  {
   "cell_type": "markdown",
   "metadata": {
    "id": "D6XkI90snSDl"
   },
   "source": [
    "## Part 3 - Training the CNN"
   ]
  },
  {
   "cell_type": "markdown",
   "metadata": {
    "id": "vfrFQACEnc6i"
   },
   "source": [
    "### Compiling the CNN"
   ]
  },
  {
   "cell_type": "code",
   "execution_count": 276,
   "metadata": {
    "id": "NALksrNQpUlJ"
   },
   "outputs": [],
   "source": [
    "cnn.compile(loss = 'categorical_crossentropy', optimizer = 'adam', \n",
    "              metrics = ['accuracy'])"
   ]
  },
  {
   "cell_type": "markdown",
   "metadata": {
    "id": "ehS-v3MIpX2h"
   },
   "source": [
    "### Training the CNN on the Training set and evaluating it on the Test set"
   ]
  },
  {
   "cell_type": "code",
   "execution_count": 277,
   "metadata": {},
   "outputs": [],
   "source": [
    "import os\n",
    "\n",
    "dir_path = r'C:\\Users\\Geetha\\Desktop\\std_severity\\trainset\\patches_in_throat'\n",
    "\n",
    "# Get a list of all the files in the directory\n",
    "file_list = os.listdir(dir_path)\n",
    "\n",
    "# Loop through the files and delete any with the \".ini\" extension\n",
    "for file_name in file_list:\n",
    "    if file_name.endswith('.ini'):\n",
    "        file_path = os.path.join(dir_path, file_name)\n",
    "        os.remove(file_path)\n",
    "#os.remove(r'C:\\Users\\Geetha\\Desktop\\STD_CNN\\testset\\muscle_wasting\\desktop.ini')\n",
    "#os.remove(r'C:\\Users\\Geetha\\Desktop\\STD_CNN\\testset\\yellowing_skin\\desktop.ini')\n"
   ]
  },
  {
   "cell_type": "code",
   "execution_count": 278,
   "metadata": {},
   "outputs": [
    {
     "name": "stdout",
     "output_type": "stream",
     "text": [
      "[]\n"
     ]
    }
   ],
   "source": [
    "import os\n",
    "import cv2\n",
    "bad_list=[]\n",
    "dir=r'C:\\Users\\Geetha\\Desktop\\std_severity\\trainset\\patches_in_throat'\n",
    "subdir_list=os.listdir(dir)\n",
    "for d in subdir_list:  \n",
    "    dpath=os.path.join (dir, d) \n",
    "    if d in ['testset', 'trainset']:\n",
    "        class_list=os.listdir(dpath) \n",
    "       # print (class_list)\n",
    "        for klass in class_list: \n",
    "            class_path=os.path.join(dpath, klass) \n",
    "            #print(class_path)\n",
    "            file_list=os.listdir(class_path) \n",
    "            for f in file_list: \n",
    "                fpath=os.path.join (class_path,f)\n",
    "                index=f.rfind('.') \n",
    "                ext=f[index+1:] \n",
    "                if ext  not in ['jpg', 'png', 'bmp', 'gif']:\n",
    "                    print(f'file {fpath}  has an invalid extension {ext}')\n",
    "                    bad_list.append(fpath)                    \n",
    "                else:\n",
    "                    try:\n",
    "                        img=cv2.imread(fpath)\n",
    "                        size=img.shape\n",
    "                    except:\n",
    "                        print(f'file {fpath} is not a valid image file ')\n",
    "                        bad_list.append(fpath)\n",
    "                       \n",
    "print (bad_list)"
   ]
  },
  {
   "cell_type": "code",
   "execution_count": 279,
   "metadata": {},
   "outputs": [
    {
     "name": "stdout",
     "output_type": "stream",
     "text": [
      "Epoch 1/25\n",
      "1/1 [==============================] - 1s 1s/step - loss: 1.0991 - accuracy: 0.2667 - val_loss: 3.4332 - val_accuracy: 0.3333\n",
      "Epoch 2/25\n",
      "1/1 [==============================] - 0s 268ms/step - loss: 2.1281 - accuracy: 0.5333 - val_loss: 1.7971 - val_accuracy: 0.3333\n",
      "Epoch 3/25\n",
      "1/1 [==============================] - 0s 251ms/step - loss: 1.1113 - accuracy: 0.5333 - val_loss: 1.2449 - val_accuracy: 0.3333\n",
      "Epoch 4/25\n",
      "1/1 [==============================] - 0s 246ms/step - loss: 1.0916 - accuracy: 0.2667 - val_loss: 1.1672 - val_accuracy: 0.3333\n",
      "Epoch 5/25\n",
      "1/1 [==============================] - 0s 258ms/step - loss: 1.2034 - accuracy: 0.2667 - val_loss: 1.1185 - val_accuracy: 0.3333\n",
      "Epoch 6/25\n",
      "1/1 [==============================] - 0s 240ms/step - loss: 1.1643 - accuracy: 0.2667 - val_loss: 1.0999 - val_accuracy: 0.3333\n",
      "Epoch 7/25\n",
      "1/1 [==============================] - 0s 253ms/step - loss: 1.1145 - accuracy: 0.2667 - val_loss: 1.1056 - val_accuracy: 0.6667\n",
      "Epoch 8/25\n",
      "1/1 [==============================] - 0s 304ms/step - loss: 1.0535 - accuracy: 0.7333 - val_loss: 1.1297 - val_accuracy: 0.3333\n",
      "Epoch 9/25\n",
      "1/1 [==============================] - 0s 299ms/step - loss: 1.0080 - accuracy: 0.5333 - val_loss: 1.1820 - val_accuracy: 0.3333\n",
      "Epoch 10/25\n",
      "1/1 [==============================] - 0s 272ms/step - loss: 0.9893 - accuracy: 0.5333 - val_loss: 1.2520 - val_accuracy: 0.3333\n",
      "Epoch 11/25\n",
      "1/1 [==============================] - 0s 286ms/step - loss: 0.9601 - accuracy: 0.5333 - val_loss: 1.3411 - val_accuracy: 0.3333\n",
      "Epoch 12/25\n",
      "1/1 [==============================] - 0s 305ms/step - loss: 0.9484 - accuracy: 0.5333 - val_loss: 1.4220 - val_accuracy: 0.3333\n",
      "Epoch 13/25\n",
      "1/1 [==============================] - 0s 281ms/step - loss: 0.9556 - accuracy: 0.5333 - val_loss: 1.4592 - val_accuracy: 0.3333\n",
      "Epoch 14/25\n",
      "1/1 [==============================] - 0s 286ms/step - loss: 0.9555 - accuracy: 0.5333 - val_loss: 1.4586 - val_accuracy: 0.3333\n",
      "Epoch 15/25\n",
      "1/1 [==============================] - 0s 277ms/step - loss: 0.9124 - accuracy: 0.5333 - val_loss: 1.4335 - val_accuracy: 0.3333\n",
      "Epoch 16/25\n",
      "1/1 [==============================] - 0s 262ms/step - loss: 0.9125 - accuracy: 0.5333 - val_loss: 1.4026 - val_accuracy: 0.3333\n",
      "Epoch 17/25\n",
      "1/1 [==============================] - 0s 300ms/step - loss: 0.9045 - accuracy: 0.5333 - val_loss: 1.3794 - val_accuracy: 0.3333\n",
      "Epoch 18/25\n",
      "1/1 [==============================] - 0s 255ms/step - loss: 0.8640 - accuracy: 0.5333 - val_loss: 1.4008 - val_accuracy: 0.3333\n",
      "Epoch 19/25\n",
      "1/1 [==============================] - 0s 288ms/step - loss: 0.8353 - accuracy: 0.6000 - val_loss: 1.5014 - val_accuracy: 0.3333\n",
      "Epoch 20/25\n",
      "1/1 [==============================] - 0s 251ms/step - loss: 0.7924 - accuracy: 0.6000 - val_loss: 1.6226 - val_accuracy: 0.3333\n",
      "Epoch 21/25\n",
      "1/1 [==============================] - 0s 251ms/step - loss: 0.8058 - accuracy: 0.6000 - val_loss: 1.6689 - val_accuracy: 0.3333\n",
      "Epoch 22/25\n",
      "1/1 [==============================] - 0s 248ms/step - loss: 0.7654 - accuracy: 0.6667 - val_loss: 1.7504 - val_accuracy: 0.3333\n",
      "Epoch 23/25\n",
      "1/1 [==============================] - 0s 248ms/step - loss: 0.7150 - accuracy: 0.6000 - val_loss: 1.9368 - val_accuracy: 0.3333\n",
      "Epoch 24/25\n",
      "1/1 [==============================] - 0s 264ms/step - loss: 0.6540 - accuracy: 0.6667 - val_loss: 2.3431 - val_accuracy: 0.6667\n",
      "Epoch 25/25\n",
      "1/1 [==============================] - 0s 260ms/step - loss: 0.5430 - accuracy: 0.8000 - val_loss: 2.8698 - val_accuracy: 0.6667\n"
     ]
    },
    {
     "data": {
      "text/plain": [
       "<keras.callbacks.History at 0x1d8438e0040>"
      ]
     },
     "execution_count": 279,
     "metadata": {},
     "output_type": "execute_result"
    }
   ],
   "source": [
    "cnn.fit(x = training_set,validation_data=test_set,  epochs = 25)\n"
   ]
  },
  {
   "cell_type": "code",
   "execution_count": 280,
   "metadata": {
    "id": "XUj1W4PJptta"
   },
   "outputs": [
    {
     "name": "stdout",
     "output_type": "stream",
     "text": [
      "{'discoloured': 0, 'not_very_severe': 1, 'white_patches': 2}\n"
     ]
    }
   ],
   "source": [
    "\n",
    "class_indices = training_set.class_indices\n",
    "print(class_indices)\n",
    "\n",
    "# Get the class label for a particular class\n",
    "\n",
    "\n"
   ]
  },
  {
   "cell_type": "markdown",
   "metadata": {
    "id": "U3PZasO0006Z"
   },
   "source": [
    "## Part 4 - Making a single prediction"
   ]
  },
  {
   "cell_type": "code",
   "execution_count": 301,
   "metadata": {
    "id": "gsSiWEJY1BPB"
   },
   "outputs": [
    {
     "name": "stdout",
     "output_type": "stream",
     "text": [
      "1/1 [==============================] - 0s 21ms/step\n",
      "[[0.         0.00418815 0.9958118 ]]\n",
      "1/1 [==============================] - 0s 20ms/step\n",
      "[[0.         0.00418815 0.9958118 ]]\n",
      "1.0\n",
      "[[0 1 2]]\n",
      "[[0.         0.00418815 0.9958118 ]]\n",
      "b is larger than a\n",
      "[[0 1 2]]\n",
      "[[0.         0.00418815 0.9958118 ]]\n",
      "The test sample [[[[ 94.   0.   0.]\n",
      "   [ 95.   0.   0.]\n",
      "   [ 92.   1.   0.]\n",
      "   ...\n",
      "   [226.  77.  79.]\n",
      "   [233.  87.  90.]\n",
      "   [253.  99. 107.]]\n",
      "\n",
      "  [[101.   1.   3.]\n",
      "   [103.   0.   2.]\n",
      "   [ 82.   1.   0.]\n",
      "   ...\n",
      "   [187.  50.  58.]\n",
      "   [209.  66.  70.]\n",
      "   [234.  87.  93.]]\n",
      "\n",
      "  [[ 96.   0.   2.]\n",
      "   [ 94.   0.   1.]\n",
      "   [ 80.   2.   0.]\n",
      "   ...\n",
      "   [149.  26.  29.]\n",
      "   [189.  48.  56.]\n",
      "   [211.  71.  80.]]\n",
      "\n",
      "  ...\n",
      "\n",
      "  [[185.  80.  85.]\n",
      "   [190.  96.  96.]\n",
      "   [211. 122. 126.]\n",
      "   ...\n",
      "   [228.  60.  73.]\n",
      "   [232.  58.  68.]\n",
      "   [231.  68.  71.]]\n",
      "\n",
      "  [[198.  72.  73.]\n",
      "   [206.  91.  94.]\n",
      "   [212. 120. 121.]\n",
      "   ...\n",
      "   [234.  59.  74.]\n",
      "   [231.  66.  72.]\n",
      "   [234.  66.  79.]]\n",
      "\n",
      "  [[215.  65.  77.]\n",
      "   [207.  71.  73.]\n",
      "   [211.  91.  92.]\n",
      "   ...\n",
      "   [230.  69.  74.]\n",
      "   [233.  63.  76.]\n",
      "   [234.  62.  76.]]]] \n",
      "Top three Predicted classes and their corresponding probabilties\n",
      "\n",
      "\tClass 2: 0.99581\n",
      "\tClass 1: 0.00419\n",
      "\tClass 0: 0.00000\n"
     ]
    }
   ],
   "source": [
    "import numpy as np\n",
    "from tensorflow.keras.utils import load_img, img_to_array\n",
    "from keras.preprocessing import image\n",
    "test_image = tf.keras.utils.load_img('single_prediction/pwhite_patches2.jpg', target_size = (64, 64))\n",
    "test_image = tf.keras.preprocessing.image.img_to_array(test_image)\n",
    "test_image = np.expand_dims(test_image, axis = 0)\n",
    "result = cnn.predict(test_image)\n",
    "print(result)\n",
    "training_set.class_indices\n",
    "if result[0][0] >result[0][1] and result[0][0] >result[0][2]:\n",
    "  prediction = 'discoloured'\n",
    "elif result[0][1] >result[0][0] and result[0][1] >result[0][2]:\n",
    "  prediction = 'not very severe'\n",
    "elif result[0][2] >result[0][0] and result[0][2] >result[0][1]:\n",
    "  prediction = 'white patches'\n",
    "\n",
    "\n",
    "probs = cnn.predict(test_image)\n",
    "print(probs)\n",
    "\n",
    "prob_sum = np.sum(probs)\n",
    "print(prob_sum)\n",
    "\n",
    "indices=np.argsort(probs)\n",
    "print(indices)\n",
    "print(probs[0][indices])\n",
    "if probs[0][indices[0][0]]> probs[0][indices[0][1]]:\n",
    "    print(\"a is larger than b\")\n",
    "else:\n",
    "    print(\"b is larger than a\")\n",
    "    \n",
    "top_3 = np.argsort(probs,axis=1)[:, -3:]\n",
    "print(top_3)\n",
    "class_probs = np.take_along_axis(probs, top_3, axis=1)\n",
    "print(class_probs)\n",
    "\n",
    "print(f\"The test sample {test_image} \")\n",
    "print(\"Top three Predicted classes and their corresponding probabilties\\n\")\n",
    "for j in range(3):\n",
    "        class_idx = top_3[0][2-j]\n",
    "        class_prob = class_probs[0][2-j]\n",
    "        print(f\"\\tClass {class_idx}: {class_prob:.5f}\")\n",
    "# print(f\"Actual class to which the test sample belongs to {}  \")�\n"
   ]
  },
  {
   "cell_type": "code",
   "execution_count": 302,
   "metadata": {
    "id": "ED9KB3I54c1i"
   },
   "outputs": [
    {
     "name": "stdout",
     "output_type": "stream",
     "text": [
      "white patches\n"
     ]
    }
   ],
   "source": [
    "print(prediction)"
   ]
  },
  {
   "cell_type": "code",
   "execution_count": 303,
   "metadata": {},
   "outputs": [
    {
     "name": "stdout",
     "output_type": "stream",
     "text": [
      "[[0.         0.00418815 0.9958118 ]]\n"
     ]
    }
   ],
   "source": [
    "print(result)"
   ]
  },
  {
   "cell_type": "code",
   "execution_count": null,
   "metadata": {},
   "outputs": [],
   "source": []
  },
  {
   "cell_type": "code",
   "execution_count": null,
   "metadata": {},
   "outputs": [],
   "source": []
  }
 ],
 "metadata": {
  "colab": {
   "collapsed_sections": [],
   "provenance": [],
   "toc_visible": true
  },
  "kernelspec": {
   "display_name": "Python 3 (ipykernel)",
   "language": "python",
   "name": "python3"
  },
  "language_info": {
   "codemirror_mode": {
    "name": "ipython",
    "version": 3
   },
   "file_extension": ".py",
   "mimetype": "text/x-python",
   "name": "python",
   "nbconvert_exporter": "python",
   "pygments_lexer": "ipython3",
   "version": "3.9.12"
  }
 },
 "nbformat": 4,
 "nbformat_minor": 1
}
