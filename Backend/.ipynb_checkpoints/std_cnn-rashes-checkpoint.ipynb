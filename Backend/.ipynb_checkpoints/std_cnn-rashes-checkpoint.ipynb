{
 "cells": [
  {
   "cell_type": "markdown",
   "metadata": {
    "id": "3DR-eO17geWu"
   },
   "source": [
    "# Convolutional Neural Network"
   ]
  },
  {
   "cell_type": "markdown",
   "metadata": {
    "id": "EMefrVPCg-60"
   },
   "source": [
    "### Importing the libraries"
   ]
  },
  {
   "cell_type": "code",
   "execution_count": 317,
   "metadata": {
    "id": "sCV30xyVhFbE"
   },
   "outputs": [],
   "source": [
    "import tensorflow as tf\n",
    "from tensorflow import keras\n",
    "from tensorflow.keras import layers\n",
    "from keras.preprocessing.image import ImageDataGenerator"
   ]
  },
  {
   "cell_type": "code",
   "execution_count": 318,
   "metadata": {
    "id": "FIleuCAjoFD8"
   },
   "outputs": [
    {
     "data": {
      "text/plain": [
       "'2.9.1'"
      ]
     },
     "execution_count": 318,
     "metadata": {},
     "output_type": "execute_result"
    }
   ],
   "source": [
    "tf.__version__"
   ]
  },
  {
   "cell_type": "markdown",
   "metadata": {
    "id": "oxQxCBWyoGPE"
   },
   "source": [
    "## Part 1 - Data Preprocessing"
   ]
  },
  {
   "cell_type": "markdown",
   "metadata": {
    "id": "MvE-heJNo3GG"
   },
   "source": [
    "### Preprocessing the Training set"
   ]
  },
  {
   "cell_type": "code",
   "execution_count": 319,
   "metadata": {
    "id": "0koUcJMJpEBD"
   },
   "outputs": [
    {
     "name": "stdout",
     "output_type": "stream",
     "text": [
      "Found 18 images belonging to 3 classes.\n"
     ]
    }
   ],
   "source": [
    "train_datagen = ImageDataGenerator(rescale = 1./255,\n",
    "#                                    shear_range = 0.2,\n",
    "#                                    zoom_range = 0.2,\n",
    "#                                    horizontal_flip = True\n",
    "                                  rotation_range=20,           # Rotate the image by up to 20 degrees\n",
    "    width_shift_range=0.2,       # Shift the image horizontally by up to 20% of the image width\n",
    "    height_shift_range=0.2,      # Shift the image vertically by up to 20% of the image height\n",
    "    shear_range=0.2,             # Shear the image by up to 20 degrees\n",
    "    zoom_range=0.2,              # Zoom in or out on the image by up to 20%\n",
    "    horizontal_flip=True,        # Flip the image horizontally\n",
    "    fill_mode='nearest'\n",
    "                                  \n",
    "                                  )\n",
    "\n",
    "\n",
    "training_set = train_datagen.flow_from_directory('trainset\\yellowish_eyes',\n",
    "                                                 target_size = (64, 64),\n",
    "                                                 batch_size = 32,\n",
    "                                                 class_mode = 'categorical')"
   ]
  },
  {
   "cell_type": "markdown",
   "metadata": {
    "id": "mrCMmGw9pHys"
   },
   "source": [
    "### Preprocessing the Test set"
   ]
  },
  {
   "cell_type": "code",
   "execution_count": 320,
   "metadata": {
    "id": "SH4WzfOhpKc3"
   },
   "outputs": [
    {
     "name": "stdout",
     "output_type": "stream",
     "text": [
      "Found 3 images belonging to 3 classes.\n"
     ]
    }
   ],
   "source": [
    "test_datagen = ImageDataGenerator(rescale = 1./255)\n",
    "test_set = test_datagen.flow_from_directory('testset\\yellowish_eyes',\n",
    "                                            target_size = (64, 64),\n",
    "                                            batch_size = 32,\n",
    "                                            class_mode = 'categorical')"
   ]
  },
  {
   "cell_type": "markdown",
   "metadata": {
    "id": "af8O4l90gk7B"
   },
   "source": [
    "## Part 2 - Building the CNN"
   ]
  },
  {
   "cell_type": "markdown",
   "metadata": {
    "id": "ces1gXY2lmoX"
   },
   "source": [
    "### Initialising the CNN"
   ]
  },
  {
   "cell_type": "code",
   "execution_count": 321,
   "metadata": {
    "id": "SAUt4UMPlhLS"
   },
   "outputs": [],
   "source": [
    "cnn = tf.keras.models.Sequential()\n",
    "\n"
   ]
  },
  {
   "cell_type": "markdown",
   "metadata": {
    "id": "u5YJj_XMl5LF"
   },
   "source": [
    "### Step 1 - Convolution"
   ]
  },
  {
   "cell_type": "code",
   "execution_count": 322,
   "metadata": {
    "id": "XPzPrMckl-hV"
   },
   "outputs": [],
   "source": [
    "cnn.add(tf.keras.layers.Conv2D(filters=32, kernel_size=3, activation='relu', input_shape=[64, 64, 3]))"
   ]
  },
  {
   "cell_type": "markdown",
   "metadata": {
    "id": "tf87FpvxmNOJ"
   },
   "source": [
    "### Step 2 - Pooling"
   ]
  },
  {
   "cell_type": "code",
   "execution_count": 323,
   "metadata": {
    "id": "ncpqPl69mOac"
   },
   "outputs": [],
   "source": [
    "cnn.add(tf.keras.layers.MaxPool2D(pool_size=2, strides=2))"
   ]
  },
  {
   "cell_type": "markdown",
   "metadata": {
    "id": "xaTOgD8rm4mU"
   },
   "source": [
    "### Adding a second convolutional layer"
   ]
  },
  {
   "cell_type": "code",
   "execution_count": 324,
   "metadata": {
    "id": "i_-FZjn_m8gk"
   },
   "outputs": [],
   "source": [
    "cnn.add(tf.keras.layers.Conv2D(filters=64, kernel_size=3, activation='relu'))\n",
    "cnn.add(tf.keras.layers.MaxPool2D(pool_size=2, strides=2))"
   ]
  },
  {
   "cell_type": "markdown",
   "metadata": {
    "id": "tmiEuvTunKfk"
   },
   "source": [
    "### Step 3 - Flattening"
   ]
  },
  {
   "cell_type": "code",
   "execution_count": 325,
   "metadata": {
    "id": "6AZeOGCvnNZn"
   },
   "outputs": [],
   "source": [
    "cnn.add(tf.keras.layers.Flatten())"
   ]
  },
  {
   "cell_type": "markdown",
   "metadata": {
    "id": "dAoSECOm203v"
   },
   "source": [
    "### Step 4 - Full Connection"
   ]
  },
  {
   "cell_type": "code",
   "execution_count": 326,
   "metadata": {
    "id": "8GtmUlLd26Nq"
   },
   "outputs": [],
   "source": [
    "cnn.add(tf.keras.layers.Dense(units=128, activation='relu'))"
   ]
  },
  {
   "cell_type": "markdown",
   "metadata": {
    "id": "yTldFvbX28Na"
   },
   "source": [
    "### Step 5 - Output Layer"
   ]
  },
  {
   "cell_type": "code",
   "execution_count": 327,
   "metadata": {
    "id": "1p_Zj1Mc3Ko_"
   },
   "outputs": [],
   "source": [
    "cnn.add(tf.keras.layers.Dense(units=3, activation='softmax'))"
   ]
  },
  {
   "cell_type": "markdown",
   "metadata": {
    "id": "D6XkI90snSDl"
   },
   "source": [
    "## Part 3 - Training the CNN"
   ]
  },
  {
   "cell_type": "markdown",
   "metadata": {
    "id": "vfrFQACEnc6i"
   },
   "source": [
    "### Compiling the CNN"
   ]
  },
  {
   "cell_type": "code",
   "execution_count": 328,
   "metadata": {
    "id": "NALksrNQpUlJ"
   },
   "outputs": [],
   "source": [
    "cnn.compile(loss = 'categorical_crossentropy', optimizer = 'adam', \n",
    "              metrics = ['accuracy'])"
   ]
  },
  {
   "cell_type": "markdown",
   "metadata": {
    "id": "ehS-v3MIpX2h"
   },
   "source": [
    "### Training the CNN on the Training set and evaluating it on the Test set"
   ]
  },
  {
   "cell_type": "code",
   "execution_count": 329,
   "metadata": {},
   "outputs": [],
   "source": [
    "import os\n",
    "\n",
    "dir_path = r'C:\\Users\\Geetha\\Desktop\\std_severity\\trainset\\yellowish_eyes'\n",
    "\n",
    "# Get a list of all the files in the directory\n",
    "file_list = os.listdir(dir_path)\n",
    "\n",
    "# Loop through the files and delete any with the \".ini\" extension\n",
    "for file_name in file_list:\n",
    "    if file_name.endswith('.ini'):\n",
    "        file_path = os.path.join(dir_path, file_name)\n",
    "        os.remove(file_path)\n",
    "#os.remove(r'C:\\Users\\Geetha\\Desktop\\STD_CNN\\testset\\muscle_wasting\\desktop.ini')\n",
    "#os.remove(r'C:\\Users\\Geetha\\Desktop\\STD_CNN\\testset\\yellowing_skin\\desktop.ini')\n"
   ]
  },
  {
   "cell_type": "code",
   "execution_count": 330,
   "metadata": {},
   "outputs": [
    {
     "name": "stdout",
     "output_type": "stream",
     "text": [
      "[]\n"
     ]
    }
   ],
   "source": [
    "import os\n",
    "import cv2\n",
    "bad_list=[]\n",
    "dir=r'C:\\Users\\Geetha\\Desktop\\std_severity\\trainset\\yellowish_eyes'\n",
    "subdir_list=os.listdir(dir)\n",
    "for d in subdir_list:  \n",
    "    dpath=os.path.join (dir, d) \n",
    "    if d in ['testset', 'trainset']:\n",
    "        class_list=os.listdir(dpath) \n",
    "       # print (class_list)\n",
    "        for klass in class_list: \n",
    "            class_path=os.path.join(dpath, klass) \n",
    "            #print(class_path)\n",
    "            file_list=os.listdir(class_path) \n",
    "            for f in file_list: \n",
    "                fpath=os.path.join (class_path,f)\n",
    "                index=f.rfind('.') \n",
    "                ext=f[index+1:] \n",
    "                if ext  not in ['jpg', 'png', 'bmp', 'gif']:\n",
    "                    print(f'file {fpath}  has an invalid extension {ext}')\n",
    "                    bad_list.append(fpath)                    \n",
    "                else:\n",
    "                    try:\n",
    "                        img=cv2.imread(fpath)\n",
    "                        size=img.shape\n",
    "                    except:\n",
    "                        print(f'file {fpath} is not a valid image file ')\n",
    "                        bad_list.append(fpath)\n",
    "                       \n",
    "print (bad_list)"
   ]
  },
  {
   "cell_type": "code",
   "execution_count": 331,
   "metadata": {},
   "outputs": [
    {
     "name": "stdout",
     "output_type": "stream",
     "text": [
      "Epoch 1/25\n",
      "1/1 [==============================] - 2s 2s/step - loss: 1.1104 - accuracy: 0.1667 - val_loss: 1.4057 - val_accuracy: 0.3333\n",
      "Epoch 2/25\n",
      "1/1 [==============================] - 0s 289ms/step - loss: 1.1560 - accuracy: 0.4444 - val_loss: 1.0999 - val_accuracy: 0.6667\n",
      "Epoch 3/25\n",
      "1/1 [==============================] - 0s 285ms/step - loss: 1.0750 - accuracy: 0.4444 - val_loss: 0.9660 - val_accuracy: 0.6667\n",
      "Epoch 4/25\n",
      "1/1 [==============================] - 0s 242ms/step - loss: 0.9985 - accuracy: 0.6111 - val_loss: 0.9673 - val_accuracy: 0.3333\n",
      "Epoch 5/25\n",
      "1/1 [==============================] - 0s 275ms/step - loss: 0.9805 - accuracy: 0.5556 - val_loss: 0.9383 - val_accuracy: 0.3333\n",
      "Epoch 6/25\n",
      "1/1 [==============================] - 0s 279ms/step - loss: 0.9644 - accuracy: 0.6111 - val_loss: 0.8549 - val_accuracy: 0.6667\n",
      "Epoch 7/25\n",
      "1/1 [==============================] - 0s 308ms/step - loss: 0.9025 - accuracy: 0.6111 - val_loss: 0.7870 - val_accuracy: 0.6667\n",
      "Epoch 8/25\n",
      "1/1 [==============================] - 0s 286ms/step - loss: 0.9101 - accuracy: 0.5556 - val_loss: 0.9199 - val_accuracy: 0.6667\n",
      "Epoch 9/25\n",
      "1/1 [==============================] - 0s 241ms/step - loss: 0.9068 - accuracy: 0.5556 - val_loss: 0.9387 - val_accuracy: 0.6667\n",
      "Epoch 10/25\n",
      "1/1 [==============================] - 0s 294ms/step - loss: 0.8992 - accuracy: 0.6111 - val_loss: 0.7631 - val_accuracy: 0.6667\n",
      "Epoch 11/25\n",
      "1/1 [==============================] - 0s 312ms/step - loss: 0.8120 - accuracy: 0.5556 - val_loss: 0.7612 - val_accuracy: 0.6667\n",
      "Epoch 12/25\n",
      "1/1 [==============================] - 0s 227ms/step - loss: 0.7767 - accuracy: 0.7222 - val_loss: 0.6794 - val_accuracy: 0.6667\n",
      "Epoch 13/25\n",
      "1/1 [==============================] - 0s 363ms/step - loss: 0.7916 - accuracy: 0.6667 - val_loss: 0.6532 - val_accuracy: 0.6667\n",
      "Epoch 14/25\n",
      "1/1 [==============================] - 0s 309ms/step - loss: 0.7925 - accuracy: 0.6667 - val_loss: 0.6069 - val_accuracy: 0.6667\n",
      "Epoch 15/25\n",
      "1/1 [==============================] - 0s 262ms/step - loss: 0.7804 - accuracy: 0.6667 - val_loss: 0.6976 - val_accuracy: 0.6667\n",
      "Epoch 16/25\n",
      "1/1 [==============================] - 0s 278ms/step - loss: 0.7029 - accuracy: 0.7778 - val_loss: 0.5609 - val_accuracy: 0.6667\n",
      "Epoch 17/25\n",
      "1/1 [==============================] - 0s 296ms/step - loss: 0.7793 - accuracy: 0.6667 - val_loss: 0.8990 - val_accuracy: 0.3333\n",
      "Epoch 18/25\n",
      "1/1 [==============================] - 0s 267ms/step - loss: 0.6948 - accuracy: 0.7222 - val_loss: 0.6370 - val_accuracy: 0.6667\n",
      "Epoch 19/25\n",
      "1/1 [==============================] - 0s 295ms/step - loss: 0.6489 - accuracy: 0.7222 - val_loss: 0.3984 - val_accuracy: 0.6667\n",
      "Epoch 20/25\n",
      "1/1 [==============================] - 0s 287ms/step - loss: 0.6795 - accuracy: 0.6667 - val_loss: 0.4215 - val_accuracy: 0.6667\n",
      "Epoch 21/25\n",
      "1/1 [==============================] - 0s 250ms/step - loss: 0.6337 - accuracy: 0.7778 - val_loss: 0.7057 - val_accuracy: 0.3333\n",
      "Epoch 22/25\n",
      "1/1 [==============================] - 0s 330ms/step - loss: 0.6102 - accuracy: 0.7222 - val_loss: 0.5581 - val_accuracy: 0.6667\n",
      "Epoch 23/25\n",
      "1/1 [==============================] - 0s 270ms/step - loss: 0.4702 - accuracy: 0.8889 - val_loss: 0.4861 - val_accuracy: 0.6667\n",
      "Epoch 24/25\n",
      "1/1 [==============================] - 0s 286ms/step - loss: 0.6221 - accuracy: 0.6667 - val_loss: 0.5610 - val_accuracy: 0.6667\n",
      "Epoch 25/25\n",
      "1/1 [==============================] - 0s 258ms/step - loss: 0.4866 - accuracy: 0.7778 - val_loss: 1.1356 - val_accuracy: 0.3333\n"
     ]
    },
    {
     "data": {
      "text/plain": [
       "<keras.callbacks.History at 0x1d845261790>"
      ]
     },
     "execution_count": 331,
     "metadata": {},
     "output_type": "execute_result"
    }
   ],
   "source": [
    "cnn.fit(x = training_set,validation_data=test_set,  epochs = 25)\n"
   ]
  },
  {
   "cell_type": "code",
   "execution_count": 332,
   "metadata": {
    "id": "XUj1W4PJptta"
   },
   "outputs": [
    {
     "name": "stdout",
     "output_type": "stream",
     "text": [
      "{'mild': 0, 'not_severe': 1, 'very_severe': 2}\n"
     ]
    }
   ],
   "source": [
    "\n",
    "class_indices = training_set.class_indices\n",
    "print(class_indices)\n",
    "\n",
    "# Get the class label for a particular class\n",
    "\n",
    "\n"
   ]
  },
  {
   "cell_type": "markdown",
   "metadata": {
    "id": "U3PZasO0006Z"
   },
   "source": [
    "## Part 4 - Making a single prediction"
   ]
  },
  {
   "cell_type": "code",
   "execution_count": 333,
   "metadata": {
    "id": "gsSiWEJY1BPB"
   },
   "outputs": [
    {
     "name": "stdout",
     "output_type": "stream",
     "text": [
      "1/1 [==============================] - 0s 135ms/step\n",
      "[[0. 0. 1.]]\n",
      "1/1 [==============================] - 0s 20ms/step\n",
      "[[0. 0. 1.]]\n",
      "1.0\n",
      "[[0 1 2]]\n",
      "[[0. 0. 1.]]\n",
      "b is larger than a\n",
      "[[0 1 2]]\n",
      "[[0. 0. 1.]]\n",
      "The test sample [[[[124.  54.  42.]\n",
      "   [122.  50.  36.]\n",
      "   [126.  53.  38.]\n",
      "   ...\n",
      "   [ 81.  22.   8.]\n",
      "   [ 76.  18.   6.]\n",
      "   [ 70.  15.  10.]]\n",
      "\n",
      "  [[112.  42.  34.]\n",
      "   [117.  44.  35.]\n",
      "   [116.  42.  31.]\n",
      "   ...\n",
      "   [ 81.  22.   8.]\n",
      "   [ 76.  18.   6.]\n",
      "   [ 76.  21.  16.]]\n",
      "\n",
      "  [[104.  33.  27.]\n",
      "   [113.  40.  33.]\n",
      "   [109.  35.  24.]\n",
      "   ...\n",
      "   [ 81.  22.   8.]\n",
      "   [ 76.  18.   6.]\n",
      "   [ 70.  15.   8.]]\n",
      "\n",
      "  ...\n",
      "\n",
      "  [[194. 102.  89.]\n",
      "   [192.  98.  86.]\n",
      "   [197.  99.  88.]\n",
      "   ...\n",
      "   [124.  62.  49.]\n",
      "   [118.  56.  41.]\n",
      "   [110.  47.  30.]]\n",
      "\n",
      "  [[198. 100.  87.]\n",
      "   [186.  88.  75.]\n",
      "   [188.  90.  77.]\n",
      "   ...\n",
      "   [118.  52.  40.]\n",
      "   [112.  46.  32.]\n",
      "   [114.  46.  35.]]\n",
      "\n",
      "  [[184.  87.  71.]\n",
      "   [199. 102.  86.]\n",
      "   [192.  95.  79.]\n",
      "   ...\n",
      "   [108.  42.  30.]\n",
      "   [126.  60.  46.]\n",
      "   [134.  66.  55.]]]] \n",
      "Top three Predicted classes and their corresponding probabilties\n",
      "\n",
      "\tClass 2: 1.00000\n",
      "\tClass 1: 0.00000\n",
      "\tClass 0: 0.00000\n"
     ]
    }
   ],
   "source": [
    "import numpy as np\n",
    "from tensorflow.keras.utils import load_img, img_to_array\n",
    "from keras.preprocessing import image\n",
    "test_image = tf.keras.utils.load_img('single_prediction/yel_eye7.jpg', target_size = (64, 64))\n",
    "test_image = tf.keras.preprocessing.image.img_to_array(test_image)\n",
    "test_image = np.expand_dims(test_image, axis = 0)\n",
    "result = cnn.predict(test_image)\n",
    "print(result)\n",
    "training_set.class_indices\n",
    "if result[0][0] >result[0][1] and result[0][0] >result[0][2]:\n",
    "  prediction = 'mild'\n",
    "elif result[0][1] >result[0][0] and result[0][1] >result[0][2]:\n",
    "  prediction = 'not  severe'\n",
    "elif result[0][2] >result[0][0] and result[0][2] >result[0][1]:\n",
    "  prediction = 'very severe'\n",
    "\n",
    "\n",
    "probs = cnn.predict(test_image)\n",
    "print(probs)\n",
    "\n",
    "prob_sum = np.sum(probs)\n",
    "print(prob_sum)\n",
    "\n",
    "indices=np.argsort(probs)\n",
    "print(indices)\n",
    "print(probs[0][indices])\n",
    "if probs[0][indices[0][0]]> probs[0][indices[0][1]]:\n",
    "    print(\"a is larger than b\")\n",
    "else:\n",
    "    print(\"b is larger than a\")\n",
    "    \n",
    "top_3 = np.argsort(probs,axis=1)[:, -3:]\n",
    "print(top_3)\n",
    "class_probs = np.take_along_axis(probs, top_3, axis=1)\n",
    "print(class_probs)\n",
    "\n",
    "print(f\"The test sample {test_image} \")\n",
    "print(\"Top three Predicted classes and their corresponding probabilties\\n\")\n",
    "for j in range(3):\n",
    "        class_idx = top_3[0][2-j]\n",
    "        class_prob = class_probs[0][2-j]\n",
    "        print(f\"\\tClass {class_idx}: {class_prob:.5f}\")\n",
    "# print(f\"Actual class to which the test sample belongs to {}  \")�\n"
   ]
  },
  {
   "cell_type": "code",
   "execution_count": 334,
   "metadata": {
    "id": "ED9KB3I54c1i"
   },
   "outputs": [
    {
     "name": "stdout",
     "output_type": "stream",
     "text": [
      "very severe\n"
     ]
    }
   ],
   "source": [
    "print(prediction)"
   ]
  },
  {
   "cell_type": "code",
   "execution_count": 335,
   "metadata": {},
   "outputs": [
    {
     "name": "stdout",
     "output_type": "stream",
     "text": [
      "[[0. 0. 1.]]\n"
     ]
    }
   ],
   "source": [
    "print(result)"
   ]
  },
  {
   "cell_type": "code",
   "execution_count": null,
   "metadata": {},
   "outputs": [],
   "source": []
  },
  {
   "cell_type": "code",
   "execution_count": null,
   "metadata": {},
   "outputs": [],
   "source": []
  }
 ],
 "metadata": {
  "colab": {
   "collapsed_sections": [],
   "provenance": [],
   "toc_visible": true
  },
  "kernelspec": {
   "display_name": "Python 3 (ipykernel)",
   "language": "python",
   "name": "python3"
  },
  "language_info": {
   "codemirror_mode": {
    "name": "ipython",
    "version": 3
   },
   "file_extension": ".py",
   "mimetype": "text/x-python",
   "name": "python",
   "nbconvert_exporter": "python",
   "pygments_lexer": "ipython3",
   "version": "3.9.12"
  }
 },
 "nbformat": 4,
 "nbformat_minor": 1
}
