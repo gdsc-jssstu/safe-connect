{
 "cells": [
  {
   "cell_type": "markdown",
   "metadata": {
    "id": "3DR-eO17geWu"
   },
   "source": [
    "# Convolutional Neural Network"
   ]
  },
  {
   "cell_type": "markdown",
   "metadata": {
    "id": "EMefrVPCg-60"
   },
   "source": [
    "### Importing the libraries"
   ]
  },
  {
   "cell_type": "code",
   "execution_count": 124,
   "metadata": {
    "id": "sCV30xyVhFbE"
   },
   "outputs": [],
   "source": [
    "import tensorflow as tf\n",
    "from tensorflow import keras\n",
    "from tensorflow.keras import layers\n",
    "from keras.preprocessing.image import ImageDataGenerator"
   ]
  },
  {
   "cell_type": "code",
   "execution_count": 125,
   "metadata": {
    "id": "FIleuCAjoFD8"
   },
   "outputs": [
    {
     "data": {
      "text/plain": [
       "'2.9.1'"
      ]
     },
     "execution_count": 125,
     "metadata": {},
     "output_type": "execute_result"
    }
   ],
   "source": [
    "tf.__version__"
   ]
  },
  {
   "cell_type": "markdown",
   "metadata": {
    "id": "oxQxCBWyoGPE"
   },
   "source": [
    "## Part 1 - Data Preprocessing"
   ]
  },
  {
   "cell_type": "markdown",
   "metadata": {
    "id": "MvE-heJNo3GG"
   },
   "source": [
    "### Preprocessing the Training set"
   ]
  },
  {
   "cell_type": "code",
   "execution_count": 126,
   "metadata": {
    "id": "0koUcJMJpEBD"
   },
   "outputs": [
    {
     "name": "stdout",
     "output_type": "stream",
     "text": [
      "Found 20 images belonging to 3 classes.\n"
     ]
    }
   ],
   "source": [
    "train_datagen = ImageDataGenerator(rescale = 1./255,\n",
    "#                                    shear_range = 0.2,\n",
    "#                                    zoom_range = 0.2,\n",
    "#                                    horizontal_flip = True\n",
    "                                  rotation_range=20,           # Rotate the image by up to 20 degrees\n",
    "    width_shift_range=0.2,       # Shift the image horizontally by up to 20% of the image width\n",
    "    height_shift_range=0.2,      # Shift the image vertically by up to 20% of the image height\n",
    "    shear_range=0.2,             # Shear the image by up to 20 degrees\n",
    "    zoom_range=0.2,              # Zoom in or out on the image by up to 20%\n",
    "    horizontal_flip=True,        # Flip the image horizontally\n",
    "    fill_mode='nearest'\n",
    "                                  \n",
    "                                  )\n",
    "\n",
    "\n",
    "training_set = train_datagen.flow_from_directory(r'trainset\\rashes',\n",
    "                                                 target_size = (64, 64),\n",
    "                                                 batch_size = 32,\n",
    "                                                 class_mode = 'categorical')"
   ]
  },
  {
   "cell_type": "markdown",
   "metadata": {
    "id": "mrCMmGw9pHys"
   },
   "source": [
    "### Preprocessing the Test set"
   ]
  },
  {
   "cell_type": "code",
   "execution_count": 127,
   "metadata": {
    "id": "SH4WzfOhpKc3"
   },
   "outputs": [
    {
     "name": "stdout",
     "output_type": "stream",
     "text": [
      "Found 0 images belonging to 0 classes.\n"
     ]
    }
   ],
   "source": [
    "test_datagen = ImageDataGenerator(rescale = 1./255)\n",
    "test_set = test_datagen.flow_from_directory(r'testset\\rashes',\n",
    "                                            target_size = (64, 64),\n",
    "                                            batch_size = 32,\n",
    "                                            class_mode = 'categorical')"
   ]
  },
  {
   "cell_type": "markdown",
   "metadata": {
    "id": "af8O4l90gk7B"
   },
   "source": [
    "## Part 2 - Building the CNN"
   ]
  },
  {
   "cell_type": "markdown",
   "metadata": {
    "id": "ces1gXY2lmoX"
   },
   "source": [
    "### Initialising the CNN"
   ]
  },
  {
   "cell_type": "code",
   "execution_count": 128,
   "metadata": {
    "id": "SAUt4UMPlhLS"
   },
   "outputs": [],
   "source": [
    "cnn = tf.keras.models.Sequential()\n",
    "\n"
   ]
  },
  {
   "cell_type": "markdown",
   "metadata": {
    "id": "u5YJj_XMl5LF"
   },
   "source": [
    "### Step 1 - Convolution"
   ]
  },
  {
   "cell_type": "code",
   "execution_count": 129,
   "metadata": {
    "id": "XPzPrMckl-hV"
   },
   "outputs": [],
   "source": [
    "cnn.add(tf.keras.layers.Conv2D(filters=32, kernel_size=3, activation='relu', input_shape=[64, 64, 3]))"
   ]
  },
  {
   "cell_type": "markdown",
   "metadata": {
    "id": "tf87FpvxmNOJ"
   },
   "source": [
    "### Step 2 - Pooling"
   ]
  },
  {
   "cell_type": "code",
   "execution_count": 130,
   "metadata": {
    "id": "ncpqPl69mOac"
   },
   "outputs": [],
   "source": [
    "cnn.add(tf.keras.layers.MaxPool2D(pool_size=2, strides=2))"
   ]
  },
  {
   "cell_type": "markdown",
   "metadata": {
    "id": "xaTOgD8rm4mU"
   },
   "source": [
    "### Adding a second convolutional layer"
   ]
  },
  {
   "cell_type": "code",
   "execution_count": 131,
   "metadata": {
    "id": "i_-FZjn_m8gk"
   },
   "outputs": [],
   "source": [
    "cnn.add(tf.keras.layers.Conv2D(filters=64, kernel_size=3, activation='relu'))\n",
    "cnn.add(tf.keras.layers.MaxPool2D(pool_size=2, strides=2))"
   ]
  },
  {
   "cell_type": "markdown",
   "metadata": {
    "id": "tmiEuvTunKfk"
   },
   "source": [
    "### Step 3 - Flattening"
   ]
  },
  {
   "cell_type": "code",
   "execution_count": 132,
   "metadata": {
    "id": "6AZeOGCvnNZn"
   },
   "outputs": [],
   "source": [
    "cnn.add(tf.keras.layers.Flatten())"
   ]
  },
  {
   "cell_type": "markdown",
   "metadata": {
    "id": "dAoSECOm203v"
   },
   "source": [
    "### Step 4 - Full Connection"
   ]
  },
  {
   "cell_type": "code",
   "execution_count": 133,
   "metadata": {
    "id": "8GtmUlLd26Nq"
   },
   "outputs": [],
   "source": [
    "cnn.add(tf.keras.layers.Dense(units=128, activation='relu'))"
   ]
  },
  {
   "cell_type": "markdown",
   "metadata": {
    "id": "yTldFvbX28Na"
   },
   "source": [
    "### Step 5 - Output Layer"
   ]
  },
  {
   "cell_type": "code",
   "execution_count": 134,
   "metadata": {
    "id": "1p_Zj1Mc3Ko_"
   },
   "outputs": [],
   "source": [
    "cnn.add(tf.keras.layers.Dense(units=3, activation='softmax'))"
   ]
  },
  {
   "cell_type": "markdown",
   "metadata": {
    "id": "D6XkI90snSDl"
   },
   "source": [
    "## Part 3 - Training the CNN"
   ]
  },
  {
   "cell_type": "markdown",
   "metadata": {
    "id": "vfrFQACEnc6i"
   },
   "source": [
    "### Compiling the CNN"
   ]
  },
  {
   "cell_type": "code",
   "execution_count": 135,
   "metadata": {
    "id": "NALksrNQpUlJ"
   },
   "outputs": [],
   "source": [
    "cnn.compile(loss = 'categorical_crossentropy', optimizer = 'adam', \n",
    "              metrics = ['accuracy'])"
   ]
  },
  {
   "cell_type": "markdown",
   "metadata": {
    "id": "ehS-v3MIpX2h"
   },
   "source": [
    "### Training the CNN on the Training set and evaluating it on the Test set"
   ]
  },
  {
   "cell_type": "code",
   "execution_count": 136,
   "metadata": {},
   "outputs": [],
   "source": [
    "import os\n",
    "\n",
    "dir_path = r'C:\\Users\\Geetha\\Desktop\\std_severity\\trainset\\rashes'\n",
    "\n",
    "# Get a list of all the files in the directory\n",
    "file_list = os.listdir(dir_path)\n",
    "\n",
    "# Loop through the files and delete any with the \".ini\" extension\n",
    "for file_name in file_list:\n",
    "    if file_name.endswith('.ini'):\n",
    "        file_path = os.path.join(dir_path, file_name)\n",
    "        os.remove(file_path)\n",
    "#os.remove(r'C:\\Users\\Geetha\\Desktop\\STD_CNN\\testset\\muscle_wasting\\desktop.ini')\n",
    "#os.remove(r'C:\\Users\\Geetha\\Desktop\\STD_CNN\\testset\\yellowing_skin\\desktop.ini')\n"
   ]
  },
  {
   "cell_type": "code",
   "execution_count": 137,
   "metadata": {},
   "outputs": [
    {
     "name": "stdout",
     "output_type": "stream",
     "text": [
      "[]\n"
     ]
    }
   ],
   "source": [
    "import os\n",
    "import cv2\n",
    "bad_list=[]\n",
    "dir=r'C:\\Users\\Geetha\\Desktop\\std_severity\\trainset\\rashes'\n",
    "subdir_list=os.listdir(dir)\n",
    "for d in subdir_list:  \n",
    "    dpath=os.path.join (dir, d) \n",
    "    if d in ['testset', 'trainset']:\n",
    "        class_list=os.listdir(dpath) \n",
    "       # print (class_list)\n",
    "        for klass in class_list: \n",
    "            class_path=os.path.join(dpath, klass) \n",
    "            #print(class_path)\n",
    "            file_list=os.listdir(class_path) \n",
    "            for f in file_list: \n",
    "                fpath=os.path.join (class_path,f)\n",
    "                index=f.rfind('.') \n",
    "                ext=f[index+1:] \n",
    "                if ext  not in ['jpg', 'png', 'bmp', 'gif']:\n",
    "                    print(f'file {fpath}  has an invalid extension {ext}')\n",
    "                    bad_list.append(fpath)                    \n",
    "                else:\n",
    "                    try:\n",
    "                        img=cv2.imread(fpath)\n",
    "                        size=img.shape\n",
    "                    except:\n",
    "                        print(f'file {fpath} is not a valid image file ')\n",
    "                        bad_list.append(fpath)\n",
    "                       \n",
    "print (bad_list)"
   ]
  },
  {
   "cell_type": "code",
   "execution_count": 138,
   "metadata": {},
   "outputs": [
    {
     "name": "stdout",
     "output_type": "stream",
     "text": [
      "Epoch 1/25\n",
      "1/1 [==============================] - 1s 1s/step - loss: 1.1010 - accuracy: 0.3000\n",
      "Epoch 2/25\n",
      "1/1 [==============================] - 1s 550ms/step - loss: 2.2134 - accuracy: 0.4500\n",
      "Epoch 3/25\n",
      "1/1 [==============================] - 0s 449ms/step - loss: 1.1732 - accuracy: 0.4500\n",
      "Epoch 4/25\n",
      "1/1 [==============================] - 1s 525ms/step - loss: 1.1357 - accuracy: 0.2500\n",
      "Epoch 5/25\n",
      "1/1 [==============================] - 1s 631ms/step - loss: 1.1396 - accuracy: 0.3500\n",
      "Epoch 6/25\n",
      "1/1 [==============================] - 1s 669ms/step - loss: 1.1215 - accuracy: 0.3000\n",
      "Epoch 7/25\n",
      "1/1 [==============================] - 1s 519ms/step - loss: 1.1105 - accuracy: 0.3000\n",
      "Epoch 8/25\n",
      "1/1 [==============================] - 1s 505ms/step - loss: 1.1008 - accuracy: 0.3000\n",
      "Epoch 9/25\n",
      "1/1 [==============================] - 1s 523ms/step - loss: 1.0904 - accuracy: 0.3000\n",
      "Epoch 10/25\n",
      "1/1 [==============================] - 0s 479ms/step - loss: 1.0729 - accuracy: 0.5000\n",
      "Epoch 11/25\n",
      "1/1 [==============================] - 1s 516ms/step - loss: 1.0673 - accuracy: 0.4500\n",
      "Epoch 12/25\n",
      "1/1 [==============================] - 1s 551ms/step - loss: 1.0588 - accuracy: 0.4500\n",
      "Epoch 13/25\n",
      "1/1 [==============================] - 1s 635ms/step - loss: 1.0607 - accuracy: 0.4500\n",
      "Epoch 14/25\n",
      "1/1 [==============================] - 1s 562ms/step - loss: 1.0446 - accuracy: 0.4500\n",
      "Epoch 15/25\n",
      "1/1 [==============================] - 1s 511ms/step - loss: 1.0548 - accuracy: 0.4500\n",
      "Epoch 16/25\n",
      "1/1 [==============================] - 0s 446ms/step - loss: 1.0537 - accuracy: 0.4500\n",
      "Epoch 17/25\n",
      "1/1 [==============================] - 1s 525ms/step - loss: 1.0330 - accuracy: 0.4500\n",
      "Epoch 18/25\n",
      "1/1 [==============================] - 1s 612ms/step - loss: 1.0402 - accuracy: 0.4500\n",
      "Epoch 19/25\n",
      "1/1 [==============================] - 1s 508ms/step - loss: 1.0267 - accuracy: 0.4500\n",
      "Epoch 20/25\n",
      "1/1 [==============================] - 1s 573ms/step - loss: 1.0083 - accuracy: 0.4500\n",
      "Epoch 21/25\n",
      "1/1 [==============================] - 0s 480ms/step - loss: 1.0129 - accuracy: 0.4500\n",
      "Epoch 22/25\n",
      "1/1 [==============================] - 1s 521ms/step - loss: 1.0060 - accuracy: 0.4500\n",
      "Epoch 23/25\n",
      "1/1 [==============================] - 1s 612ms/step - loss: 0.9800 - accuracy: 0.5500\n",
      "Epoch 24/25\n",
      "1/1 [==============================] - 1s 611ms/step - loss: 0.9841 - accuracy: 0.4500\n",
      "Epoch 25/25\n",
      "1/1 [==============================] - 1s 505ms/step - loss: 0.9582 - accuracy: 0.5500\n"
     ]
    },
    {
     "data": {
      "text/plain": [
       "<keras.callbacks.History at 0x21e4cb26520>"
      ]
     },
     "execution_count": 138,
     "metadata": {},
     "output_type": "execute_result"
    }
   ],
   "source": [
    "cnn.fit(x = training_set, validation_data=test_set , epochs = 25)\n"
   ]
  },
  {
   "cell_type": "code",
   "execution_count": 139,
   "metadata": {
    "id": "XUj1W4PJptta"
   },
   "outputs": [
    {
     "name": "stdout",
     "output_type": "stream",
     "text": [
      "{'mild': 0, 'moderate': 1, 'severe': 2}\n"
     ]
    }
   ],
   "source": [
    "\n",
    "class_indices = training_set.class_indices\n",
    "print(class_indices)\n",
    "\n",
    "# Get the class label for a particular class\n",
    "\n",
    "\n"
   ]
  },
  {
   "cell_type": "markdown",
   "metadata": {
    "id": "U3PZasO0006Z"
   },
   "source": [
    "## Part 4 - Making a single prediction"
   ]
  },
  {
   "cell_type": "code",
   "execution_count": 140,
   "metadata": {
    "id": "gsSiWEJY1BPB"
   },
   "outputs": [
    {
     "name": "stdout",
     "output_type": "stream",
     "text": [
      "1/1 [==============================] - 0s 95ms/step\n",
      "[[0. 0. 1.]]\n",
      "1/1 [==============================] - 0s 37ms/step\n",
      "[[0. 0. 1.]]\n",
      "1.0\n",
      "[[0 1 2]]\n",
      "[[0. 0. 1.]]\n",
      "b is larger than a\n",
      "[[0 1 2]]\n",
      "[[0. 0. 1.]]\n",
      "The test sample [[[[ 96.  78.  64.]\n",
      "   [112.  94.  72.]\n",
      "   [119.  93.  70.]\n",
      "   ...\n",
      "   [121.  86.  58.]\n",
      "   [149. 122.  95.]\n",
      "   [160. 136. 108.]]\n",
      "\n",
      "  [[ 93.  74.  57.]\n",
      "   [101.  79.  56.]\n",
      "   [115.  89.  66.]\n",
      "   ...\n",
      "   [182. 153. 121.]\n",
      "   [128.  98.  72.]\n",
      "   [147. 118.  88.]]\n",
      "\n",
      "  [[ 79.  58.  41.]\n",
      "   [ 91.  64.  45.]\n",
      "   [106.  79.  58.]\n",
      "   ...\n",
      "   [179. 155. 119.]\n",
      "   [105.  69.  43.]\n",
      "   [129.  95.  70.]]\n",
      "\n",
      "  ...\n",
      "\n",
      "  [[105.  90.  67.]\n",
      "   [105.  88.  68.]\n",
      "   [101.  88.  69.]\n",
      "   ...\n",
      "   [ 92. 123. 128.]\n",
      "   [ 96. 189. 222.]\n",
      "   [103. 204. 224.]]\n",
      "\n",
      "  [[102.  87.  68.]\n",
      "   [106.  91.  70.]\n",
      "   [105.  90.  69.]\n",
      "   ...\n",
      "   [ 95. 134. 141.]\n",
      "   [ 94. 187. 220.]\n",
      "   [102. 198. 223.]]\n",
      "\n",
      "  [[103.  86.  68.]\n",
      "   [106.  91.  70.]\n",
      "   [106.  89.  73.]\n",
      "   ...\n",
      "   [ 96. 134. 145.]\n",
      "   [ 95. 186. 217.]\n",
      "   [114. 203. 233.]]]] \n",
      "Top three Predicted classes and their corresponding probabilties\n",
      "\n",
      "\tClass 2: 1.00000\n",
      "\tClass 1: 0.00000\n",
      "\tClass 0: 0.00000\n"
     ]
    }
   ],
   "source": [
    "import numpy as np\n",
    "from tensorflow.keras.utils import load_img, img_to_array\n",
    "from keras.preprocessing import image\n",
    "test_image = tf.keras.utils.load_img('single_prediction/severe_rash.jpg', target_size = (64, 64))\n",
    "test_image = tf.keras.preprocessing.image.img_to_array(test_image)\n",
    "test_image = np.expand_dims(test_image, axis = 0)\n",
    "result = cnn.predict(test_image)\n",
    "print(result)\n",
    "training_set.class_indices\n",
    "if result[0][0] >result[0][1] and result[0][0] >result[0][2]:\n",
    "  prediction = 'mild'\n",
    "elif result[0][1] >result[0][0] and result[0][1] >result[0][2]:\n",
    "  prediction = 'moderate'\n",
    "elif result[0][2] >result[0][0] and result[0][2] >result[0][1]:\n",
    "  prediction = 'severe'\n",
    "\n",
    "\n",
    "\n",
    "probs = cnn.predict(test_image)\n",
    "print(probs)\n",
    "\n",
    "prob_sum = np.sum(probs)\n",
    "print(prob_sum)\n",
    "\n",
    "indices=np.argsort(probs)\n",
    "print(indices)\n",
    "print(probs[0][indices])\n",
    "if probs[0][indices[0][0]]> probs[0][indices[0][1]]:\n",
    "    print(\"a is larger than b\")\n",
    "else:\n",
    "    print(\"b is larger than a\")\n",
    "    \n",
    "top_3 = np.argsort(probs,axis=1)[:, -3:]\n",
    "print(top_3)\n",
    "class_probs = np.take_along_axis(probs, top_3, axis=1)\n",
    "print(class_probs)\n",
    "\n",
    "print(f\"The test sample {test_image} \")\n",
    "print(\"Top three Predicted classes and their corresponding probabilties\\n\")\n",
    "for j in range(3):\n",
    "        class_idx = top_3[0][2-j]\n",
    "        class_prob = class_probs[0][2-j]\n",
    "        print(f\"\\tClass {class_idx}: {class_prob:.5f}\")\n",
    "# print(f\"Actual class to which the test sample belongs to {}  \")�\n"
   ]
  },
  {
   "cell_type": "code",
   "execution_count": 141,
   "metadata": {
    "id": "ED9KB3I54c1i"
   },
   "outputs": [
    {
     "name": "stdout",
     "output_type": "stream",
     "text": [
      "severe\n"
     ]
    }
   ],
   "source": [
    "print(prediction)"
   ]
  },
  {
   "cell_type": "code",
   "execution_count": 142,
   "metadata": {},
   "outputs": [
    {
     "name": "stdout",
     "output_type": "stream",
     "text": [
      "[[0. 0. 1.]]\n"
     ]
    }
   ],
   "source": [
    "print(result)"
   ]
  },
  {
   "cell_type": "code",
   "execution_count": null,
   "metadata": {},
   "outputs": [],
   "source": []
  },
  {
   "cell_type": "code",
   "execution_count": null,
   "metadata": {},
   "outputs": [],
   "source": []
  }
 ],
 "metadata": {
  "colab": {
   "collapsed_sections": [],
   "provenance": [],
   "toc_visible": true
  },
  "kernelspec": {
   "display_name": "Python 3 (ipykernel)",
   "language": "python",
   "name": "python3"
  },
  "language_info": {
   "codemirror_mode": {
    "name": "ipython",
    "version": 3
   },
   "file_extension": ".py",
   "mimetype": "text/x-python",
   "name": "python",
   "nbconvert_exporter": "python",
   "pygments_lexer": "ipython3",
   "version": "3.9.12"
  }
 },
 "nbformat": 4,
 "nbformat_minor": 1
}
