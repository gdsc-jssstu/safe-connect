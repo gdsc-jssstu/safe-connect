{
 "cells": [
  {
   "cell_type": "markdown",
   "metadata": {
    "id": "3DR-eO17geWu"
   },
   "source": [
    "# Convolutional Neural Network"
   ]
  },
  {
   "cell_type": "markdown",
   "metadata": {
    "id": "EMefrVPCg-60"
   },
   "source": [
    "### Importing the libraries"
   ]
  },
  {
   "cell_type": "code",
   "execution_count": 1,
   "metadata": {
    "id": "sCV30xyVhFbE"
   },
   "outputs": [],
   "source": [
    "import tensorflow as tf\n",
    "from keras.preprocessing.image import ImageDataGenerator"
   ]
  },
  {
   "cell_type": "code",
   "execution_count": 2,
   "metadata": {
    "id": "FIleuCAjoFD8"
   },
   "outputs": [
    {
     "data": {
      "text/plain": [
       "'2.9.1'"
      ]
     },
     "execution_count": 2,
     "metadata": {},
     "output_type": "execute_result"
    }
   ],
   "source": [
    "tf.__version__"
   ]
  },
  {
   "cell_type": "markdown",
   "metadata": {
    "id": "oxQxCBWyoGPE"
   },
   "source": [
    "## Part 1 - Data Preprocessing"
   ]
  },
  {
   "cell_type": "markdown",
   "metadata": {
    "id": "MvE-heJNo3GG"
   },
   "source": [
    "### Preprocessing the Training set"
   ]
  },
  {
   "cell_type": "code",
   "execution_count": 5,
   "metadata": {
    "id": "0koUcJMJpEBD"
   },
   "outputs": [
    {
     "name": "stdout",
     "output_type": "stream",
     "text": [
      "Found 12 images belonging to 3 classes.\n"
     ]
    }
   ],
   "source": [
    "train_datagen = ImageDataGenerator(rescale = 1./255,\n",
    "                                   shear_range = 0.2,\n",
    "                                   zoom_range = 0.2,\n",
    "                                   horizontal_flip = True)\n",
    "training_set = train_datagen.flow_from_directory('trainset\\patches_in_throat',\n",
    "                                                 target_size = (64, 64),\n",
    "                                                 batch_size = 32,\n",
    "                                                 class_mode = 'categorical')"
   ]
  },
  {
   "cell_type": "markdown",
   "metadata": {
    "id": "mrCMmGw9pHys"
   },
   "source": [
    "### Preprocessing the Test set"
   ]
  },
  {
   "cell_type": "code",
   "execution_count": 6,
   "metadata": {
    "id": "SH4WzfOhpKc3"
   },
   "outputs": [
    {
     "name": "stdout",
     "output_type": "stream",
     "text": [
      "Found 2 images belonging to 2 classes.\n"
     ]
    }
   ],
   "source": [
    "test_datagen = ImageDataGenerator(rescale = 1./255)\n",
    "test_set = test_datagen.flow_from_directory('testset\\patches_in_throat',\n",
    "                                            target_size = (64, 64),\n",
    "                                            batch_size = 32,\n",
    "                                            class_mode = 'categorical')"
   ]
  },
  {
   "cell_type": "markdown",
   "metadata": {
    "id": "af8O4l90gk7B"
   },
   "source": [
    "## Part 2 - Building the CNN"
   ]
  },
  {
   "cell_type": "markdown",
   "metadata": {
    "id": "ces1gXY2lmoX"
   },
   "source": [
    "### Initialising the CNN"
   ]
  },
  {
   "cell_type": "code",
   "execution_count": 7,
   "metadata": {
    "id": "SAUt4UMPlhLS"
   },
   "outputs": [],
   "source": [
    "cnn = tf.keras.models.Sequential()"
   ]
  },
  {
   "cell_type": "markdown",
   "metadata": {
    "id": "u5YJj_XMl5LF"
   },
   "source": [
    "### Step 1 - Convolution"
   ]
  },
  {
   "cell_type": "code",
   "execution_count": 8,
   "metadata": {
    "id": "XPzPrMckl-hV"
   },
   "outputs": [],
   "source": [
    "cnn.add(tf.keras.layers.Conv2D(filters=32, kernel_size=3, activation='relu', input_shape=[64, 64, 3]))"
   ]
  },
  {
   "cell_type": "markdown",
   "metadata": {
    "id": "tf87FpvxmNOJ"
   },
   "source": [
    "### Step 2 - Pooling"
   ]
  },
  {
   "cell_type": "code",
   "execution_count": 9,
   "metadata": {
    "id": "ncpqPl69mOac"
   },
   "outputs": [],
   "source": [
    "cnn.add(tf.keras.layers.MaxPool2D(pool_size=2, strides=2))"
   ]
  },
  {
   "cell_type": "markdown",
   "metadata": {
    "id": "xaTOgD8rm4mU"
   },
   "source": [
    "### Adding a second convolutional layer"
   ]
  },
  {
   "cell_type": "code",
   "execution_count": 10,
   "metadata": {
    "id": "i_-FZjn_m8gk"
   },
   "outputs": [],
   "source": [
    "cnn.add(tf.keras.layers.Conv2D(filters=64, kernel_size=3, activation='relu'))\n",
    "cnn.add(tf.keras.layers.MaxPool2D(pool_size=2, strides=2))"
   ]
  },
  {
   "cell_type": "markdown",
   "metadata": {
    "id": "tmiEuvTunKfk"
   },
   "source": [
    "### Step 3 - Flattening"
   ]
  },
  {
   "cell_type": "code",
   "execution_count": 11,
   "metadata": {
    "id": "6AZeOGCvnNZn"
   },
   "outputs": [],
   "source": [
    "cnn.add(tf.keras.layers.Flatten())"
   ]
  },
  {
   "cell_type": "markdown",
   "metadata": {
    "id": "dAoSECOm203v"
   },
   "source": [
    "### Step 4 - Full Connection"
   ]
  },
  {
   "cell_type": "code",
   "execution_count": 12,
   "metadata": {
    "id": "8GtmUlLd26Nq"
   },
   "outputs": [],
   "source": [
    "cnn.add(tf.keras.layers.Dense(units=128, activation='relu'))"
   ]
  },
  {
   "cell_type": "markdown",
   "metadata": {
    "id": "yTldFvbX28Na"
   },
   "source": [
    "### Step 5 - Output Layer"
   ]
  },
  {
   "cell_type": "code",
   "execution_count": 13,
   "metadata": {
    "id": "1p_Zj1Mc3Ko_"
   },
   "outputs": [],
   "source": [
    "cnn.add(tf.keras.layers.Dense(units=7, activation='softmax'))"
   ]
  },
  {
   "cell_type": "markdown",
   "metadata": {
    "id": "D6XkI90snSDl"
   },
   "source": [
    "## Part 3 - Training the CNN"
   ]
  },
  {
   "cell_type": "markdown",
   "metadata": {
    "id": "vfrFQACEnc6i"
   },
   "source": [
    "### Compiling the CNN"
   ]
  },
  {
   "cell_type": "code",
   "execution_count": 14,
   "metadata": {
    "id": "NALksrNQpUlJ"
   },
   "outputs": [],
   "source": [
    "cnn.compile(loss = 'categorical_crossentropy', optimizer = 'adam', \n",
    "              metrics = ['accuracy'])"
   ]
  },
  {
   "cell_type": "markdown",
   "metadata": {
    "id": "ehS-v3MIpX2h"
   },
   "source": [
    "### Training the CNN on the Training set and evaluating it on the Test set"
   ]
  },
  {
   "cell_type": "code",
   "execution_count": 15,
   "metadata": {},
   "outputs": [],
   "source": [
    "import os\n",
    "\n",
    "dir_path = r'C:\\Users\\Geetha\\Desktop\\std_severity\\trainset\\patches_in_throat'\n",
    "\n",
    "# Get a list of all the files in the directory\n",
    "file_list = os.listdir(dir_path)\n",
    "\n",
    "# Loop through the files and delete any with the \".ini\" extension\n",
    "for file_name in file_list:\n",
    "    if file_name.endswith('.ini'):\n",
    "        file_path = os.path.join(dir_path, file_name)\n",
    "        os.remove(file_path)\n",
    "#os.remove(r'C:\\Users\\Geetha\\Desktop\\STD_CNN\\testset\\muscle_wasting\\desktop.ini')\n",
    "#os.remove(r'C:\\Users\\Geetha\\Desktop\\STD_CNN\\testset\\yellowing_skin\\desktop.ini')\n"
   ]
  },
  {
   "cell_type": "code",
   "execution_count": 16,
   "metadata": {},
   "outputs": [
    {
     "name": "stdout",
     "output_type": "stream",
     "text": [
      "[]\n"
     ]
    }
   ],
   "source": [
    "import os\n",
    "import cv2\n",
    "bad_list=[]\n",
    "dir=r'C:\\Users\\Geetha\\Desktop\\std_severity\\trainset\\patches_in_throat'\n",
    "subdir_list=os.listdir(dir)\n",
    "for d in subdir_list:  \n",
    "    dpath=os.path.join (dir, d) \n",
    "    if d in ['testset', 'trainset']:\n",
    "        class_list=os.listdir(dpath) \n",
    "       # print (class_list)\n",
    "        for klass in class_list: \n",
    "            class_path=os.path.join(dpath, klass) \n",
    "            #print(class_path)\n",
    "            file_list=os.listdir(class_path) \n",
    "            for f in file_list: \n",
    "                fpath=os.path.join (class_path,f)\n",
    "                index=f.rfind('.') \n",
    "                ext=f[index+1:] \n",
    "                if ext  not in ['jpg', 'png', 'bmp', 'gif']:\n",
    "                    print(f'file {fpath}  has an invalid extension {ext}')\n",
    "                    bad_list.append(fpath)                    \n",
    "                else:\n",
    "                    try:\n",
    "                        img=cv2.imread(fpath)\n",
    "                        size=img.shape\n",
    "                    except:\n",
    "                        print(f'file {fpath} is not a valid image file ')\n",
    "                        bad_list.append(fpath)\n",
    "                       \n",
    "print (bad_list)"
   ]
  },
  {
   "cell_type": "code",
   "execution_count": null,
   "metadata": {},
   "outputs": [],
   "source": []
  },
  {
   "cell_type": "code",
   "execution_count": 110,
   "metadata": {
    "id": "XUj1W4PJptta"
   },
   "outputs": [
    {
     "name": "stdout",
     "output_type": "stream",
     "text": [
      "Epoch 1/25\n",
      "2/2 [==============================] - 1s 366ms/step - loss: 2.2130 - accuracy: 0.1250 - val_loss: 2.0356 - val_accuracy: 0.1538\n",
      "Epoch 2/25\n",
      "2/2 [==============================] - 1s 121ms/step - loss: 2.0732 - accuracy: 0.2000 - val_loss: 1.9882 - val_accuracy: 0.2308\n",
      "Epoch 3/25\n",
      "2/2 [==============================] - 1s 344ms/step - loss: 1.9144 - accuracy: 0.1750 - val_loss: 1.9746 - val_accuracy: 0.1538\n",
      "Epoch 4/25\n",
      "2/2 [==============================] - 1s 368ms/step - loss: 1.9307 - accuracy: 0.1500 - val_loss: 1.9941 - val_accuracy: 0.1538\n",
      "Epoch 5/25\n",
      "2/2 [==============================] - 1s 373ms/step - loss: 1.8837 - accuracy: 0.2750 - val_loss: 1.9631 - val_accuracy: 0.2308\n",
      "Epoch 6/25\n",
      "2/2 [==============================] - 1s 263ms/step - loss: 1.8083 - accuracy: 0.3500 - val_loss: 1.8732 - val_accuracy: 0.2308\n",
      "Epoch 7/25\n",
      "2/2 [==============================] - 1s 434ms/step - loss: 1.7164 - accuracy: 0.4250 - val_loss: 1.8122 - val_accuracy: 0.2308\n",
      "Epoch 8/25\n",
      "2/2 [==============================] - 1s 432ms/step - loss: 1.6465 - accuracy: 0.3750 - val_loss: 1.7460 - val_accuracy: 0.3077\n",
      "Epoch 9/25\n",
      "2/2 [==============================] - 1s 506ms/step - loss: 1.5446 - accuracy: 0.3500 - val_loss: 1.7606 - val_accuracy: 0.3077\n",
      "Epoch 10/25\n",
      "2/2 [==============================] - 1s 458ms/step - loss: 1.4499 - accuracy: 0.4250 - val_loss: 1.6679 - val_accuracy: 0.2308\n",
      "Epoch 11/25\n",
      "2/2 [==============================] - 1s 442ms/step - loss: 1.3907 - accuracy: 0.4750 - val_loss: 1.6153 - val_accuracy: 0.3077\n",
      "Epoch 12/25\n",
      "2/2 [==============================] - 1s 502ms/step - loss: 1.3128 - accuracy: 0.4500 - val_loss: 1.6244 - val_accuracy: 0.3077\n",
      "Epoch 13/25\n",
      "2/2 [==============================] - 1s 483ms/step - loss: 1.2436 - accuracy: 0.5250 - val_loss: 1.5599 - val_accuracy: 0.3077\n",
      "Epoch 14/25\n",
      "2/2 [==============================] - 1s 126ms/step - loss: 1.1364 - accuracy: 0.6250 - val_loss: 1.3390 - val_accuracy: 0.4615\n",
      "Epoch 15/25\n",
      "2/2 [==============================] - 1s 356ms/step - loss: 0.9486 - accuracy: 0.7500 - val_loss: 1.3454 - val_accuracy: 0.3846\n",
      "Epoch 16/25\n",
      "2/2 [==============================] - 1s 150ms/step - loss: 0.9486 - accuracy: 0.6500 - val_loss: 1.1903 - val_accuracy: 0.6154\n",
      "Epoch 17/25\n",
      "2/2 [==============================] - 1s 128ms/step - loss: 0.7869 - accuracy: 0.8000 - val_loss: 1.3424 - val_accuracy: 0.5385\n",
      "Epoch 18/25\n",
      "2/2 [==============================] - 1s 382ms/step - loss: 0.8512 - accuracy: 0.6250 - val_loss: 1.2939 - val_accuracy: 0.5385\n",
      "Epoch 19/25\n",
      "2/2 [==============================] - 1s 515ms/step - loss: 0.7331 - accuracy: 0.7750 - val_loss: 1.2211 - val_accuracy: 0.4615\n",
      "Epoch 20/25\n",
      "2/2 [==============================] - 1s 422ms/step - loss: 0.7311 - accuracy: 0.7000 - val_loss: 1.1178 - val_accuracy: 0.4615\n",
      "Epoch 21/25\n",
      "2/2 [==============================] - 1s 169ms/step - loss: 0.6217 - accuracy: 0.8250 - val_loss: 1.0440 - val_accuracy: 0.6154\n",
      "Epoch 22/25\n",
      "2/2 [==============================] - 1s 135ms/step - loss: 0.5383 - accuracy: 0.8750 - val_loss: 0.9288 - val_accuracy: 0.6923\n",
      "Epoch 23/25\n",
      "2/2 [==============================] - 1s 172ms/step - loss: 0.4740 - accuracy: 0.9000 - val_loss: 0.9387 - val_accuracy: 0.6154\n",
      "Epoch 24/25\n",
      "2/2 [==============================] - 1s 170ms/step - loss: 0.3850 - accuracy: 0.9000 - val_loss: 0.8434 - val_accuracy: 0.6154\n",
      "Epoch 25/25\n",
      "2/2 [==============================] - 1s 370ms/step - loss: 0.3541 - accuracy: 0.9250 - val_loss: 0.8737 - val_accuracy: 0.6923\n"
     ]
    },
    {
     "data": {
      "text/plain": [
       "<keras.callbacks.History at 0x1e980150220>"
      ]
     },
     "execution_count": 110,
     "metadata": {},
     "output_type": "execute_result"
    }
   ],
   "source": [
    "cnn.fit(x = training_set, validation_data = test_set, epochs = 25)\n",
    "\n",
    "\n",
    "\n"
   ]
  },
  {
   "cell_type": "markdown",
   "metadata": {
    "id": "U3PZasO0006Z"
   },
   "source": [
    "## Part 4 - Making a single prediction"
   ]
  },
  {
   "cell_type": "code",
   "execution_count": 111,
   "metadata": {
    "id": "gsSiWEJY1BPB"
   },
   "outputs": [
    {
     "name": "stdout",
     "output_type": "stream",
     "text": [
      "1/1 [==============================] - 0s 62ms/step\n",
      "[[1. 0. 0. 0. 0. 0. 0.]]\n"
     ]
    }
   ],
   "source": [
    "import numpy as np\n",
    "from tensorflow.keras.utils import load_img, img_to_array\n",
    "from keras.preprocessing import image\n",
    "test_image = tf.keras.utils.load_img('single_prediction/pat6.jpg', target_size = (64, 64))\n",
    "test_image = tf.keras.preprocessing.image.img_to_array(test_image)\n",
    "test_image = np.expand_dims(test_image, axis = 0)\n",
    "result = cnn.predict(test_image)\n",
    "print(result)\n",
    "training_set.class_indices\n",
    "if result[0][0] == 1:\n",
    "  prediction = 'discoloured'\n",
    "elif result[0][1] == 1:\n",
    "  prediction = 'not very severe'\n",
    "elif result[0][2] == 1:\n",
    "  prediction = 'w'\n",
    "elif result[0][3] == 1:\n",
    "  prediction = 'scabs'\n",
    "elif result[0][4] == 1:\n",
    "  prediction = 'small sores'\n",
    "elif result[0][5] == 1:\n",
    "  prediction = 'yellowing eyes'\n",
    "elif result[0][6] == 1:\n",
    "  prediction = 'yellowing skin'"
   ]
  },
  {
   "cell_type": "code",
   "execution_count": 112,
   "metadata": {
    "id": "ED9KB3I54c1i"
   },
   "outputs": [
    {
     "name": "stdout",
     "output_type": "stream",
     "text": [
      "muscle_wasting\n"
     ]
    }
   ],
   "source": [
    "print(prediction)"
   ]
  },
  {
   "cell_type": "code",
   "execution_count": null,
   "metadata": {},
   "outputs": [],
   "source": []
  }
 ],
 "metadata": {
  "colab": {
   "collapsed_sections": [],
   "provenance": [],
   "toc_visible": true
  },
  "kernelspec": {
   "display_name": "Python 3 (ipykernel)",
   "language": "python",
   "name": "python3"
  },
  "language_info": {
   "codemirror_mode": {
    "name": "ipython",
    "version": 3
   },
   "file_extension": ".py",
   "mimetype": "text/x-python",
   "name": "python",
   "nbconvert_exporter": "python",
   "pygments_lexer": "ipython3",
   "version": "3.9.12"
  }
 },
 "nbformat": 4,
 "nbformat_minor": 1
}
